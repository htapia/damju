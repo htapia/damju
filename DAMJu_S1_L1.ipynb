{
  "nbformat": 4,
  "nbformat_minor": 0,
  "metadata": {
    "colab": {
      "name": "DAMJu_S1_L1.ipynb",
      "version": "0.3.2",
      "provenance": [],
      "include_colab_link": true
    },
    "kernelspec": {
      "name": "python2",
      "display_name": "Python 2"
    }
  },
  "cells": [
    {
      "cell_type": "markdown",
      "metadata": {
        "id": "view-in-github",
        "colab_type": "text"
      },
      "source": [
        "<a href=\"https://colab.research.google.com/github/htapia/damju/blob/master/DAMJu_S1_L1.ipynb\" target=\"_parent\"><img src=\"https://colab.research.google.com/assets/colab-badge.svg\" alt=\"Open In Colab\"/></a>"
      ]
    },
    {
      "metadata": {
        "id": "Ljeymx0djw7e",
        "colab_type": "text"
      },
      "cell_type": "markdown",
      "source": [
        "# Semana 1 Libreta 1"
      ]
    },
    {
      "metadata": {
        "id": "H5UALHJGXavZ",
        "colab_type": "text"
      },
      "cell_type": "markdown",
      "source": [
        "# Instalacion local de Jupyter via Anaconda\n",
        "\n",
        "><strong>Pro Tip</strong>\n",
        ">Sugerimos de forma muy específica utilizar la distribución de Anaconda adecuada para su sistema operativo, la cual está disponible en el enlace siguiente: [https://www.anaconda.com/download/](https://www.anaconda.com/download/) y elegir el instalable correspondiente a **Python 2.7**. Configurar el ambiente de programación por este medio facilita y acelera el desarrollo además de evitar posibles conflictos con posibles instalaciones de Python ya existentes en el sistema operativo local.\n",
        ">\n",
        "> Debido al poco tiempo disponible para el curso, no se proporcionará soporte a instalaciones o configuraciones del ambiente Python fuera de la distribución de Ananconda.\n",
        "\n"
      ]
    },
    {
      "metadata": {
        "id": "FWfSWPcLX9ct",
        "colab_type": "code",
        "colab": {
          "base_uri": "https://localhost:8080/",
          "height": 336
        },
        "outputId": "5748579e-00cf-4b28-e5ac-5cc330b85d81"
      },
      "cell_type": "code",
      "source": [
        "%%HTML\n",
        "<iframe width=\"560\" height=\"315\" src=\"https://www.youtube.com/embed/IjLuQheMQ3Q\" frameborder=\"0\" \n",
        "allow=\"accelerometer; autoplay; encrypted-media; gyroscope; picture-in-picture\" allowfullscreen></iframe>"
      ],
      "execution_count": 15,
      "outputs": [
        {
          "output_type": "display_data",
          "data": {
            "text/plain": [
              "<IPython.core.display.HTML object>"
            ],
            "text/html": [
              "<iframe width=\"560\" height=\"315\" src=\"https://www.youtube.com/embed/IjLuQheMQ3Q\" frameborder=\"0\" \n",
              "allow=\"accelerometer; autoplay; encrypted-media; gyroscope; picture-in-picture\" allowfullscreen></iframe>"
            ]
          },
          "metadata": {
            "tags": []
          }
        }
      ]
    }
  ]
}
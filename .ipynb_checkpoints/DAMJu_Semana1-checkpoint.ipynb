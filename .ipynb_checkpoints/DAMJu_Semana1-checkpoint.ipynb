{
 "cells": [
  {
   "cell_type": "markdown",
   "metadata": {
    "colab_type": "text",
    "id": "view-in-github",
    "slideshow": {
     "slide_type": "skip"
    }
   },
   "source": [
    "<a href=\"https://colab.research.google.com/github/htapia/damju/blob/master/DAMJu_Semana1.ipynb\" target=\"_parent\"><img src=\"https://colab.research.google.com/assets/colab-badge.svg\" alt=\"Open In Colab\"/></a>"
   ]
  },
  {
   "cell_type": "markdown",
   "metadata": {
    "colab_type": "text",
    "id": "DLZ9jyIXsAD1",
    "slideshow": {
     "slide_type": "slide"
    }
   },
   "source": [
    "#  Desarrollo de Aplicaciones Móviles con Jupyter\n",
    "\n",
    "## Tópicos Selectos en Aplicaciones Distribuidas Móviles\n",
    "\n",
    "RySI LANIA 2019\n"
   ]
  },
  {
   "cell_type": "markdown",
   "metadata": {
    "colab_type": "text",
    "id": "OszFWecCtDAg",
    "slideshow": {
     "slide_type": "subslide"
    }
   },
   "source": [
    "# Semana 1 \n",
    "\n",
    "## Instalacion y configuracion de la herramienta de trabajo: el ecosistema de desarrollo de Jupyter y Python para Android"
   ]
  },
  {
   "cell_type": "markdown",
   "metadata": {
    "colab_type": "text",
    "id": "uCxkbrnVtDA5",
    "slideshow": {
     "slide_type": "subslide"
    }
   },
   "source": [
    "## Introduccion\n",
    "\n",
    "Aun cuando Google proporciona una herramienta sólida para el desarrollo de software para dispositivos android (SDK), ésta está orientada a Java, y cuando todo lo que queremos hacer es un script sencillo para automatizar tareas o procesos en android, o incluso para el desarrollo rápido y ágil de aplicaciones, el uso de Java puede ser tedioso con el diseño de programación tradicional de editar-compilar-ejecutar."
   ]
  },
  {
   "cell_type": "markdown",
   "metadata": {
    "colab_type": "text",
    "id": "uCxkbrnVtDA5",
    "slideshow": {
     "slide_type": "subslide"
    }
   },
   "source": [
    "Para estos casos el uso de un lenguaje programación interpretado puede acelerar el desarrollo de aplicaciones, y es aquí donde el proyecto del Scripting Layer 4 Android, o SL4A, se vuelve una herramienta útil para escribir código para dispositivos móviles con android y en lenguajes diferentes a Java y hacerlo de una forma interactiva."
   ]
  },
  {
   "cell_type": "markdown",
   "metadata": {
    "colab_type": "text",
    "id": "uCxkbrnVtDA5",
    "slideshow": {
     "slide_type": "subslide"
    }
   },
   "source": [
    "Al momento de preparar este curso el SL4A soporta Beanshell, JRuby, Lua, Perl, PHP, Python y Rhino. El curso está enfocado en el uso de Python por su flexibilidad, sencillez y soporte a través de una gran comunidad de múltiples disciplinas que contribuyen a su desarrollo. Además de ser software libre, Python es uno de los principales lenguajes utilizados en la naciente disciplina de la Ciencia de Datos. "
   ]
  },
  {
   "cell_type": "markdown",
   "metadata": {
    "colab_type": "text",
    "id": "GGTF-CDxtDBI",
    "slideshow": {
     "slide_type": "slide"
    }
   },
   "source": [
    "## Objetivos de aprendizaje"
   ]
  },
  {
   "cell_type": "markdown",
   "metadata": {
    "colab_type": "text",
    "id": "GGTF-CDxtDBI",
    "slideshow": {
     "slide_type": "fragment"
    }
   },
   "source": [
    "*   Conocer el proceso de instalación y configuración del ecosistema de Jupyter en su computadora personal"
   ]
  },
  {
   "cell_type": "markdown",
   "metadata": {
    "colab_type": "text",
    "id": "GGTF-CDxtDBI",
    "slideshow": {
     "slide_type": "fragment"
    }
   },
   "source": [
    "*   Conocer el proceso de instalación y configuración de Python para Android en dispositivos móviles"
   ]
  },
  {
   "cell_type": "markdown",
   "metadata": {
    "slideshow": {
     "slide_type": "fragment"
    }
   },
   "source": [
    "*   Configurar los sistemas para establecer una comunicación interactiva entre Jupyter y Android"
   ]
  },
  {
   "cell_type": "markdown",
   "metadata": {
    "colab_type": "text",
    "id": "AMcBAJYBvhXc",
    "slideshow": {
     "slide_type": "slide"
    }
   },
   "source": [
    "## Requerimentos"
   ]
  },
  {
   "cell_type": "markdown",
   "metadata": {
    "colab_type": "text",
    "id": "AMcBAJYBvhXc",
    "slideshow": {
     "slide_type": "fragment"
    }
   },
   "source": [
    "*   Computadora personal con conexion a internet"
   ]
  },
  {
   "cell_type": "markdown",
   "metadata": {
    "colab_type": "text",
    "id": "AMcBAJYBvhXc",
    "slideshow": {
     "slide_type": "fragment"
    }
   },
   "source": [
    "*   Dispositivo movil con Android >= 4."
   ]
  },
  {
   "cell_type": "markdown",
   "metadata": {
    "slideshow": {
     "slide_type": "fragment"
    }
   },
   "source": [
    "*   Android Studio"
   ]
  },
  {
   "cell_type": "markdown",
   "metadata": {
    "colab_type": "text",
    "id": "oOllyIEZtDBX",
    "slideshow": {
     "slide_type": "slide"
    }
   },
   "source": [
    "## Actividades/Libretas"
   ]
  },
  {
   "cell_type": "markdown",
   "metadata": {
    "colab_type": "text",
    "id": "oOllyIEZtDBX",
    "slideshow": {
     "slide_type": "subslide"
    }
   },
   "source": [
    "1. Instalacion del ecosistema de Jupyter [Libreta 1](https://github.com/htapia/damju/blob/master/DAMJu_S1_L1.ipynb)"
   ]
  },
  {
   "cell_type": "markdown",
   "metadata": {
    "colab_type": "text",
    "id": "oOllyIEZtDBX",
    "slideshow": {
     "slide_type": "subslide"
    }
   },
   "source": [
    "2. Instalar y configurar `adb` [Libreta 2](https://github.com/htapia/damju/blob/master/DAMJu_S1_L2.ipynb)"
   ]
  },
  {
   "cell_type": "markdown",
   "metadata": {
    "colab_type": "text",
    "id": "oOllyIEZtDBX",
    "slideshow": {
     "slide_type": "subslide"
    }
   },
   "source": [
    "3. Instalacion y configuracion de Python en dispositivo movil [Libreta 3](https://github.com/htapia/damju/blob/master/DAMJu_S1_L3.ipynb)"
   ]
  },
  {
   "cell_type": "markdown",
   "metadata": {
    "slideshow": {
     "slide_type": "subslide"
    }
   },
   "source": [
    "4. Instalacion del modulo android.py [Libreta 4](https://github.com/htapia/damju/blob/master/DAMJu_S1_L5.ipynb)"
   ]
  },
  {
   "cell_type": "markdown",
   "metadata": {
    "colab_type": "text",
    "id": "oOllyIEZtDBX",
    "slideshow": {
     "slide_type": "subslide"
    }
   },
   "source": [
    "5. Comunicacion entre dispositivo movil y ambiente Jupyter [Libreta 5](https://github.com/htapia/damju/blob/master/DAMJu_S1_L5.ipynb)"
   ]
  },
  {
   "cell_type": "markdown",
   "metadata": {
    "colab_type": "text",
    "id": "oOllyIEZtDBX",
    "slideshow": {
     "slide_type": "subslide"
    }
   },
   "source": [
    "6. Ecosistema de Jupyter en la nube y conexion local [Libreta 6](https://github.com/htapia/damju/blob/master/DAMJu_S1_L6.ipynb)"
   ]
  },
  {
   "cell_type": "markdown",
   "metadata": {
    "colab_type": "text",
    "id": "NSGL9zBJtDBS",
    "slideshow": {
     "slide_type": "slide"
    }
   },
   "source": [
    "## Material/Herramientas\n",
    "\n",
    "1.  [Como instalar el ecosistema](https://youtu.be/lMeFay7VcgM) Jupyter en su sistema utilizando Anaconda. \n",
    "2.  [Como configurar `adb`](https://youtu.be/c5Ir8ywvFsw) en su sistema\n",
    "3.  [Como instalar SL4A](https://youtu.be/rxAi00PGnmU) en dispositivo móvil\n",
    "4.  [Como instalar Python](https://youtu.be/IaaYpift3l8) en Android\n",
    "5.  [Como iniciar el intérprete](https://youtu.be/xUvA5CxU0dc) de Python en Android\n",
    "6.  [Como instalar el modulo `android.py`](https://youtu.be/-05-ny7FC38) en su sistema local\n",
    "7.  [Como iniciar una libreta de Jupyter](https://youtu.be/1_u0NmrFM0c) en su sistema local"
   ]
  },
  {
   "cell_type": "markdown",
   "metadata": {
    "colab_type": "text",
    "id": "rcGMynSUtDBc",
    "slideshow": {
     "slide_type": "slide"
    }
   },
   "source": [
    "## Enlaces/recursos externos\n",
    "\n",
    "1. [Descargar Anaconda/](https://www.anaconda.com/download/)\n",
    "2. [Descargar AndroidStudio](https://developer.android.com/studio/)\n",
    "2. [Scripting Layer 4 Android](https://github.com/htapia/sl4a)\n",
    "3. [Python for Android](https://github.com/htapia/python-for-android)\n",
    "*   [Google Collaborative](https://colab.research.google.com/notebooks/welcome.ipynb)\n",
    "*   [Google Collaborative FAQ](https://research.google.com/colaboratory/faq.html)\n",
    "*   [Respositorio libro Jupyter en GitHub](https://github.com/jupyter4edu/jupyter-edu-book)\n",
    "*   [Python](www.python.org)\n"
   ]
  },
  {
   "cell_type": "markdown",
   "metadata": {
    "slideshow": {
     "slide_type": "slide"
    }
   },
   "source": [
    "# Fin de Semana 1"
   ]
  }
 ],
 "metadata": {
  "colab": {
   "include_colab_link": true,
   "name": "DAMJu_Semana1.ipynb",
   "provenance": [],
   "version": "0.3.2"
  },
  "kernelspec": {
   "display_name": "Python 2",
   "language": "python",
   "name": "python2"
  },
  "language_info": {
   "codemirror_mode": {
    "name": "ipython",
    "version": 2
   },
   "file_extension": ".py",
   "mimetype": "text/x-python",
   "name": "python",
   "nbconvert_exporter": "python",
   "pygments_lexer": "ipython2",
   "version": "2.7.15"
  }
 },
 "nbformat": 4,
 "nbformat_minor": 1
}

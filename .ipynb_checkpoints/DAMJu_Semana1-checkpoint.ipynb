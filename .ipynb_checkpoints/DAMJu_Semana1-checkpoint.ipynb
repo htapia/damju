{
 "cells": [
  {
   "cell_type": "markdown",
   "metadata": {
    "colab_type": "text",
    "id": "view-in-github",
    "slideshow": {
     "slide_type": "skip"
    }
   },
   "source": [
    "<a href=\"https://colab.research.google.com/github/htapia/damju/blob/master/DAMJu_Semana1.ipynb\" target=\"_parent\"><img src=\"https://colab.research.google.com/assets/colab-badge.svg\" alt=\"Open In Colab\"/></a>"
   ]
  },
  {
   "cell_type": "markdown",
   "metadata": {
    "colab_type": "text",
    "id": "DLZ9jyIXsAD1",
    "slideshow": {
     "slide_type": "slide"
    }
   },
   "source": [
    "#  Desarrollo de Aplicaciones Móviles con Jupyter\n",
    "## Tópicos Selectos en Aplicaciones Distribuidas Móviles\n",
    "\n",
    "RySI LANIA 2019\n"
   ]
  },
  {
   "cell_type": "markdown",
   "metadata": {
    "colab_type": "text",
    "id": "OszFWecCtDAg",
    "slideshow": {
     "slide_type": "slide"
    }
   },
   "source": [
    "# Semana 1\n",
    "\n",
    "## Instalacion y configuracion de la herramienta de trabajo"
   ]
  },
  {
   "cell_type": "markdown",
   "metadata": {
    "colab_type": "text",
    "id": "OszFWecCtDAg",
    "slideshow": {
     "slide_type": "subslide"
    }
   },
   "source": [
    "### Ecosistema de desarrollo de Jupyter \n",
    "\n",
    "Jupyter es un ecosistema de desarrollo y creacion de documentos digitales basado en Python, llamados Libretas de Jupyter. Los documentos pueden contener informacion legible para los humanos asi como contenido digital (codigo, ejecutable, etc) interpretado por una maquina."
   ]
  },
  {
   "cell_type": "markdown",
   "metadata": {
    "slideshow": {
     "slide_type": "subslide"
    }
   },
   "source": [
    "La aplicacion que permite editar y ejecutar libretas de Jupyter se conoce como [Jupyter Notebook App](https://jupyter-notebook-beginner-guide.readthedocs.io/en/latest/what_is_jupyter.html). Esta semana aprenderemos como instalar y ejecutar diversas instancias de la aplicacion para crear y editar libretas, a traves de las cuales podremos interactuar con un dispositivo movil."
   ]
  },
  {
   "cell_type": "markdown",
   "metadata": {
    "slideshow": {
     "slide_type": "fragment"
    }
   },
   "source": [
    "### Python para Android\n",
    "\n",
    "Es posible instalar el interprete de Python y ejecutar script usando este lenguaje en dispositivos moviles. En Android se logra a traves del _Scripting Layer 4 Android_. Esta semana aprenderemos tambien como instalar y ejecutar este servicio en un movil sobre la plataforma Android para ejecutar codigo de Python creado en la aplicacion de Jupyter."
   ]
  },
  {
   "cell_type": "markdown",
   "metadata": {
    "colab_type": "text",
    "id": "uCxkbrnVtDA5",
    "slideshow": {
     "slide_type": "slide"
    }
   },
   "source": [
    "## Introduccion"
   ]
  },
  {
   "cell_type": "markdown",
   "metadata": {
    "colab_type": "text",
    "id": "uCxkbrnVtDA5",
    "slideshow": {
     "slide_type": "fragment"
    }
   },
   "source": [
    "Aun cuando Google proporciona una herramienta sólida para el desarrollo de software para dispositivos android (SDK), ésta está orientada a Java, y cuando todo lo que queremos hacer es un script sencillo para automatizar tareas o procesos en android, o incluso para el desarrollo rápido y ágil de aplicaciones, el uso de Java puede ser tedioso con el diseño de programación tradicional de editar-compilar-ejecutar."
   ]
  },
  {
   "cell_type": "markdown",
   "metadata": {
    "colab_type": "text",
    "id": "uCxkbrnVtDA5",
    "slideshow": {
     "slide_type": "subslide"
    }
   },
   "source": [
    "Para estos casos el uso de un lenguaje programación interpretado puede acelerar el desarrollo de aplicaciones, y es aquí donde el proyecto del Scripting Layer 4 Android, o SL4A, se vuelve una herramienta útil para escribir código para dispositivos móviles con android y en lenguajes diferentes a Java y hacerlo de una forma interactiva."
   ]
  },
  {
   "cell_type": "markdown",
   "metadata": {
    "colab_type": "text",
    "id": "uCxkbrnVtDA5",
    "slideshow": {
     "slide_type": "subslide"
    }
   },
   "source": [
    "Al momento de preparar este curso el SL4A soporta Beanshell, JRuby, Lua, Perl, PHP, Python y Rhino. El curso está enfocado en el uso de Python por su flexibilidad, sencillez y soporte a través de una gran comunidad de múltiples disciplinas que contribuyen a su desarrollo. Además de ser software libre, Python es uno de los principales lenguajes utilizados en la naciente disciplina de la Ciencia de Datos. "
   ]
  },
  {
   "cell_type": "markdown",
   "metadata": {
    "colab_type": "text",
    "id": "GGTF-CDxtDBI",
    "slideshow": {
     "slide_type": "slide"
    }
   },
   "source": [
    "## Objetivos de aprendizaje\n",
    "\n",
    "*   Conocer el proceso de instalación y configuración del ecosistema de Jupyter en su computadora personal"
   ]
  },
  {
   "cell_type": "markdown",
   "metadata": {
    "colab_type": "text",
    "id": "GGTF-CDxtDBI",
    "slideshow": {
     "slide_type": "fragment"
    }
   },
   "source": [
    "*   Conocer el proceso de instalación y configuración de Python para Android en dispositivos móviles"
   ]
  },
  {
   "cell_type": "markdown",
   "metadata": {
    "slideshow": {
     "slide_type": "fragment"
    }
   },
   "source": [
    "*   Configurar los sistemas para establecer una comunicación interactiva entre Jupyter y Android"
   ]
  },
  {
   "cell_type": "markdown",
   "metadata": {
    "colab_type": "text",
    "id": "AMcBAJYBvhXc",
    "slideshow": {
     "slide_type": "slide"
    }
   },
   "source": [
    "## Requerimentos\n",
    "\n",
    "*   Computadora personal con conexion a internet"
   ]
  },
  {
   "cell_type": "markdown",
   "metadata": {
    "colab_type": "text",
    "id": "AMcBAJYBvhXc",
    "slideshow": {
     "slide_type": "fragment"
    }
   },
   "source": [
    "*   Dispositivo movil con Android >= 4."
   ]
  },
  {
   "cell_type": "markdown",
   "metadata": {
    "slideshow": {
     "slide_type": "fragment"
    }
   },
   "source": [
    "*   Android Studio"
   ]
  },
  {
   "cell_type": "markdown",
   "metadata": {
    "colab_type": "text",
    "id": "oOllyIEZtDBX",
    "slideshow": {
     "slide_type": "slide"
    }
   },
   "source": [
    "## Actividades/Libretas\n",
    "\n",
    "Las actividades de esta Semana estan organizadas en Libretas. Cada libreta contiene instrucciones que deben seguir y codigo que deben ejecutar. Si acceden a las libretas en [el repositorio del curso](https://github.com/htapia/damju/) veran al inicio de cada una de ellas una imagen como la siguiente:\n",
    "\n",
    "<img src=\"https://colab.research.google.com/assets/colab-badge.svg\">"
   ]
  },
  {
   "cell_type": "markdown",
   "metadata": {
    "colab_type": "text",
    "id": "oOllyIEZtDBX",
    "slideshow": {
     "slide_type": "subslide"
    }
   },
   "source": [
    "<img src=\"https://colab.research.google.com/assets/colab-badge.svg\">\n",
    "\n",
    "La imagen anterior sobre cada libreta les otorga acceso al contenido de la libreta a traves del sitio  [`https://colab.research.google.com/`](https://colab.research.google.com/), un servicio gratuito en la nube de Google que contiene el ecosistema de Jupyter completo y listo para desarrollar aplicaciones, dirigidas principalmente al _Aprendizaje de Maquina_ y _Ciencias de Datos_."
   ]
  },
  {
   "cell_type": "markdown",
   "metadata": {
    "slideshow": {
     "slide_type": "subslide"
    }
   },
   "source": [
    "A continuacion encontraran los enlaces a las libretas en el repositorio del curso y una breve descripcion de las actividades que se contemplan en cada una de ellas.\n",
    ">**TODO** Actualizar los enlaces a las libretas pues la estructura del repositorio cambio"
   ]
  },
  {
   "cell_type": "markdown",
   "metadata": {
    "colab_type": "text",
    "id": "oOllyIEZtDBX",
    "slideshow": {
     "slide_type": "subslide"
    }
   },
   "source": [
    "### [Libreta 1](https://github.com/htapia/damju/blob/master/DAMJu_S1_L1.ipynb) Instalacion del ecosistema de Jupyter en el sistema local\n",
    "Aun cuando es posible utilizar la infraestructura en la nube, sera necesario contar con un entorno de ejecucion local que nos permita la interaccion entre el sistema y el dispositivo movil. La instalacion y configuracion del entorno de Jupyter es una tarea sencilla usando Anaconda Python. En esta libreta se muestran los pasos para instalar y configurar Python en su sistema local.\n"
   ]
  },
  {
   "cell_type": "markdown",
   "metadata": {
    "colab_type": "text",
    "id": "oOllyIEZtDBX",
    "slideshow": {
     "slide_type": "subslide"
    }
   },
   "source": [
    "### [Libreta 2](https://github.com/htapia/damju/blob/master/DAMJu_S1_L2.ipynb) Instalacion  y configuracion `adb` "
   ]
  },
  {
   "cell_type": "markdown",
   "metadata": {
    "colab_type": "text",
    "id": "oOllyIEZtDBX",
    "slideshow": {
     "slide_type": "subslide"
    }
   },
   "source": [
    "### [Libreta 3](https://github.com/htapia/damju/blob/master/DAMJu_S1_L3.ipynb) Instalacion y configuracion de Python en dispositivo movil "
   ]
  },
  {
   "cell_type": "markdown",
   "metadata": {
    "slideshow": {
     "slide_type": "subslide"
    }
   },
   "source": [
    "### [Libreta 4](https://github.com/htapia/damju/blob/master/DAMJu_S1_L5.ipynb) Instalacion del modulo androidhelper.py "
   ]
  },
  {
   "cell_type": "markdown",
   "metadata": {
    "colab_type": "text",
    "id": "oOllyIEZtDBX",
    "slideshow": {
     "slide_type": "subslide"
    }
   },
   "source": [
    "### [Libreta 5](https://github.com/htapia/damju/blob/master/DAMJu_S1_L5.ipynb) Comunicacion entre dispositivo movil y ambiente Jupyter "
   ]
  },
  {
   "cell_type": "markdown",
   "metadata": {
    "colab_type": "text",
    "id": "oOllyIEZtDBX",
    "slideshow": {
     "slide_type": "subslide"
    }
   },
   "source": [
    "### [Libreta 6](https://github.com/htapia/damju/blob/master/DAMJu_S1_L6.ipynb) Ecosistema de Jupyter en la nube y conexion con el entorno de ejecucion local "
   ]
  },
  {
   "cell_type": "markdown",
   "metadata": {
    "slideshow": {
     "slide_type": "slide"
    }
   },
   "source": [
    "## Evaluacion\n",
    "La evaluacion integral de la semana sera a partir de las actividades de la Libreta 5, ya que para realizarlas es necesario llevar a cabo todos los pasos establecidos en las libretas anteriores para tener la configuracion.\n",
    "\n",
    "Las actividades de la Libreta 6 no forman parte de la evaluacion."
   ]
  },
  {
   "cell_type": "markdown",
   "metadata": {
    "colab_type": "text",
    "id": "NSGL9zBJtDBS",
    "slideshow": {
     "slide_type": "slide"
    }
   },
   "source": [
    "## Material/Herramientas\n",
    "\n",
    "1. [Repositorio oficial](https://github.com/htapia/damju) Desarrollo de Aplicaciones Móviles con Jupyter/Tópicos Selectos en Aplicaciones Distribuidas Móviles\n",
    "2. [Lista de reproduccion](https://www.youtube.com/playlist?list=PLgV98bBMLRCBfLZ9GKMcF1agCrtVdzM3L) Tutoriales para la Semana "
   ]
  },
  {
   "cell_type": "markdown",
   "metadata": {
    "colab_type": "text",
    "id": "rcGMynSUtDBc",
    "slideshow": {
     "slide_type": "subslide"
    }
   },
   "source": [
    "## Enlaces/recursos externos\n",
    "\n",
    "1. [Descargar Anaconda/](https://www.anaconda.com/download/)\n",
    "2. [Descargar AndroidStudio](https://developer.android.com/studio/)\n",
    "2. [Scripting Layer 4 Android](https://github.com/htapia/sl4a)\n",
    "3. [Python for Android](https://github.com/htapia/python-for-android)\n",
    "*   [Google Collaborative](https://colab.research.google.com/notebooks/welcome.ipynb)\n",
    "*   [Google Collaborative FAQ](https://research.google.com/colaboratory/faq.html)\n",
    "*   [Respositorio libro Jupyter en GitHub](https://github.com/jupyter4edu/jupyter-edu-book)\n",
    "*   [Python](www.python.org)\n"
   ]
  }
 ],
 "metadata": {
  "celltoolbar": "Slideshow",
  "colab": {
   "include_colab_link": true,
   "name": "DAMJu_Semana1.ipynb",
   "provenance": [],
   "version": "0.3.2"
  },
  "kernelspec": {
   "display_name": "Python 2",
   "language": "python",
   "name": "python2"
  },
  "language_info": {
   "codemirror_mode": {
    "name": "ipython",
    "version": 2
   },
   "file_extension": ".py",
   "mimetype": "text/x-python",
   "name": "python",
   "nbconvert_exporter": "python",
   "pygments_lexer": "ipython2",
   "version": "2.7.15"
  }
 },
 "nbformat": 4,
 "nbformat_minor": 1
}

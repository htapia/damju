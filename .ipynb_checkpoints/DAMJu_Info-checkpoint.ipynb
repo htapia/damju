{
 "cells": [
  {
   "cell_type": "markdown",
   "metadata": {
    "colab_type": "text",
    "id": "tXC_73dfWzxx",
    "slideshow": {
     "slide_type": "slide"
    }
   },
   "source": [
    "#  Desarrollo de Aplicaciones Móviles con Jupyter\n",
    "\n",
    "## Tópicos Selectos en Aplicaciones Distribuidas Móviles\n",
    "\n",
    "RySI LANIA 2019"
   ]
  },
  {
   "cell_type": "markdown",
   "metadata": {
    "colab_type": "text",
    "id": "qAQvuAm4XYQc",
    "slideshow": {
     "slide_type": "slide"
    }
   },
   "source": [
    "# Introduccion"
   ]
  },
  {
   "cell_type": "markdown",
   "metadata": {
    "colab_type": "text",
    "id": "M2qN0_AOQ2Nk",
    "slideshow": {
     "slide_type": "subslide"
    }
   },
   "source": [
    "El material contenido en este repositorio corresponde al curso de Tópicos Selectos en Aplicaciones Distribuidas Móviles ofrecido como parte del Diplomado de la RySI, modalidad presencial y en linea.\n",
    "\n",
    "El curso tiene como objetivo ofrecer un punto de entrada y una vista general del ecosistema de programacion y desarrollo de Jupyter para el prototipado de aplicaciones moviles distribuidas desplegadas en dispositivos moviles basados en Android."
   ]
  },
  {
   "cell_type": "markdown",
   "metadata": {
    "colab_type": "text",
    "id": "qdj7zwnbRhav",
    "slideshow": {
     "slide_type": "subslide"
    }
   },
   "source": [
    "Android es tradicionalmente un sistema operativo exclusivamente dedicado a Java. Sin embargo, este lenguaje de programación no permite la flexibilidad que se requiere para un desarrollo ágil de prototipos sobre los sistemas Android.\n"
   ]
  },
  {
   "cell_type": "markdown",
   "metadata": {
    "colab_type": "text",
    "id": "q9DpO4ANRwuc",
    "slideshow": {
     "slide_type": "subslide"
    }
   },
   "source": [
    "El Scripting Layer for Android (SL4A) es una librería para la plataforma de Android con soporte para una variedad de lenguajes interpretados con los que pueden ejecutarse scripts, tales como Perl, Python, JRuby, PHP etc."
   ]
  },
  {
   "cell_type": "markdown",
   "metadata": {
    "colab_type": "text",
    "id": "RckQlEYGRsyb",
    "slideshow": {
     "slide_type": "subslide"
    }
   },
   "source": [
    "\n",
    "La tecnología que se utilizará durante el curso se basa en el ecosistema de programación de Jupyter a través de la cual aprenderán a interactuar directamente con el dispositivo, por medio de la SL4A, y a desarrollar aplicacioens que pueden ejecutarse completamente en el dispositivo."
   ]
  },
  {
   "cell_type": "markdown",
   "metadata": {
    "colab_type": "text",
    "id": "8z4fSGGnRtpu",
    "slideshow": {
     "slide_type": "subslide"
    }
   },
   "source": [
    "Ademas se utilizara el ecosistema de Jupyter utilizando el ambiente alojado en la nube para aprender los fundamentos del desarrollo de aplicaciones de _Aprendizaje de Maqina_ que pueden desplegarse en los dispositivos moviles."
   ]
  },
  {
   "cell_type": "markdown",
   "metadata": {
    "colab_type": "text",
    "id": "eUAeCNiAWgFr",
    "slideshow": {
     "slide_type": "slide"
    }
   },
   "source": [
    "# Estructura del curso\n",
    "\n",
    "El curso esta organizado en tres sesiones, durante las cuales"
   ]
  },
  {
   "cell_type": "markdown",
   "metadata": {
    "colab_type": "text",
    "id": "JNvEpZmNRnrG",
    "slideshow": {
     "slide_type": "subslide"
    }
   },
   "source": [
    "*   el participante conocera el ecosistema de programacion de Jupyter y en particular el lenguaje de programacion Python y como utilizarlo para interactuar con dispositivos moviles basados en el SO Android"
   ]
  },
  {
   "cell_type": "markdown",
   "metadata": {
    "colab_type": "text",
    "id": "JNvEpZmNRnrG",
    "slideshow": {
     "slide_type": "subslide"
    }
   },
   "source": [
    "*   el participante desarrollara y desplegara aplicaciones basicas que le permitiran acceder a diferentes componentes del sistema e interactuar con el dispositivo, p.e. antenas, sensores, lectura de clipboard, etc."
   ]
  },
  {
   "cell_type": "markdown",
   "metadata": {
    "colab_type": "text",
    "id": "JNvEpZmNRnrG",
    "slideshow": {
     "slide_type": "subslide"
    }
   },
   "source": [
    "*   el participante implementara un algoritmo de reconocimiento de imagenes y utilizara el dispositivo movil como herramienta de adquisicion y procesamiento de datos"
   ]
  },
  {
   "cell_type": "markdown",
   "metadata": {
    "colab_type": "text",
    "id": "mjJmIs5AW207",
    "slideshow": {
     "slide_type": "subslide"
    }
   },
   "source": [
    "El curso esta construido sobre la tecnologia de libretas de Jupyter y esta organizado dentro de un [repositorio en Github](https://github.com/htapia/damju). El contenido semanal puede accederse directamente desde la pagina oficial del curso o desde el repositorio anterior."
   ]
  },
  {
   "cell_type": "markdown",
   "metadata": {
    "slideshow": {
     "slide_type": "subslide"
    }
   },
   "source": [
    "Cada libreta contiene la informacion especifica del trabajo que va a realizarse durante la semaana organizado como sigue\n",
    "\n",
    "*   Introduccion al tema de la semana\n",
    "*   Objetivos de aprendizaje de la semana\n",
    "*   Requerimentos tecnicos para la semana (software adicional, hardware, etc.)\n",
    "*   Actividades/Libretas correspondientes a la semana\n",
    "*   Material adicional como videos, etc. y \n",
    "*   Enlaces externos."
   ]
  },
  {
   "cell_type": "markdown",
   "metadata": {
    "colab_type": "text",
    "id": "mjJmIs5AW207",
    "slideshow": {
     "slide_type": "subslide"
    }
   },
   "source": [
    "1. [Libreta Semana 1](./DAMJu_Semana1.ipynb): Configuracion de las herramientas de trabajo"
   ]
  },
  {
   "cell_type": "markdown",
   "metadata": {
    "colab_type": "text",
    "id": "mjJmIs5AW207",
    "slideshow": {
     "slide_type": "fragment"
    }
   },
   "source": [
    "2. [Libreta Semana 2](./DAMJu_Semana1.ipynb): Introduccion a la API de Python en Android y al aprendizaje de maquina "
   ]
  },
  {
   "cell_type": "markdown",
   "metadata": {
    "colab_type": "text",
    "id": "mjJmIs5AW207",
    "slideshow": {
     "slide_type": "fragment"
    }
   },
   "source": [
    "3. [Libreta Semana 3](./DAMJu_Semana1.ipynb): Desarrollo y despliegue de una aplicacion de aprendizaje de maquina en el dispositivo"
   ]
  },
  {
   "cell_type": "markdown",
   "metadata": {
    "colab_type": "text",
    "id": "f92PqkOSSiKy",
    "slideshow": {
     "slide_type": "slide"
    }
   },
   "source": [
    "# Evaluación\n",
    "\n",
    "El curso sera evaluado de acuerdo a los siguientes criterios:\n"
   ]
  },
  {
   "cell_type": "markdown",
   "metadata": {
    "colab_type": "text",
    "id": "PScZ6Pq0Xndb",
    "slideshow": {
     "slide_type": "subslide"
    }
   },
   "source": [
    "| Actividad/Producto  | Sesion  | Valor | Total |\n",
    "| --- | --- | --- | --- |\n",
    "| Ejercicios/libretas   | s | v | t |\n",
    "|         S1_L#         | Semana 1 | 15%  | 15% |\n",
    "| S2_L#                 | Semana 2 | 15%  | 30% |\n",
    "| S3_L#                 | Semana 3 | 20%  | 50% |\n",
    "| Aplicaciones          | s  |   v  | t |\n",
    "| A1                    | Semana 1 | 10% |10% |\n",
    "| A2                    | Semana 2 | 10% |20% |\n",
    "| A3                    | Semana 3 | 10% |30% |\n",
    "| Proyecto Final      | s | 10% | 10% |\n",
    "| Asistencia          | s | 10% | 10% |"
   ]
  },
  {
   "cell_type": "markdown",
   "metadata": {
    "colab_type": "text",
    "id": "teUzyKF7SSzN",
    "slideshow": {
     "slide_type": "slide"
    }
   },
   "source": [
    "# Perfil  del participante \n",
    "\n",
    "Si tienen interés en desarrollar prototipos de aplicaciones en sus dispositivos móviles, este curso ofrece las bases necesarias sobre las cuales pueden construirse aplicaciones mas complejas. "
   ]
  },
  {
   "cell_type": "markdown",
   "metadata": {
    "colab_type": "text",
    "id": "vjqwsu3ySegf",
    "slideshow": {
     "slide_type": "subslide"
    }
   },
   "source": [
    "| Elemento | Descripcion |\n",
    "| --- | --- |\n",
    "| Perfil | Profesionales del área de TIC o afines |\n",
    "| Conocimientos previos | Conocimientos básicos sobre programación <br> Deseable experiencia con Python <br> Interacción con la linea de comando <br> Conocer componentes del SDK de Android |\n",
    "| Habilidades | Independencia para trabajar individualmente y en equipo <br> Capacidad para investigar <br> Interactuar con diversos sistemas operativos simultaneamente |\n",
    "| Actitudes | Trabajo en grupo <br> Autoaprendizaje <br> Honestidad y rectitud <br> Manejo de presión |"
   ]
  },
  {
   "cell_type": "markdown",
   "metadata": {
    "colab_type": "text",
    "id": "w0UyLD0GScEl",
    "slideshow": {
     "slide_type": "slide"
    }
   },
   "source": [
    "## Requisitos\n",
    "Para este curso es fundamental contar con una computadora moderna y un dispositivo móvil compatible con el Sistema Operativo Android >= 4. "
   ]
  },
  {
   "cell_type": "markdown",
   "metadata": {
    "colab_type": "text",
    "id": "w0UyLD0GScEl",
    "slideshow": {
     "slide_type": "subslide"
    }
   },
   "source": [
    "El curso está enfocado en el uso de Python por su flexibilidad, sencillez y soporte. Además de ser software libre, Python es uno de los principales lenguajes utilizados en la naciente disciplina de la Ciencia de Datos. "
   ]
  },
  {
   "cell_type": "markdown",
   "metadata": {
    "colab_type": "text",
    "id": "w0UyLD0GScEl",
    "slideshow": {
     "slide_type": "subslide"
    }
   },
   "source": [
    "Será deseable que el participante con alguna experiencia en programacion de lenguajes interactivos como Python, aunque no es necesaria. "
   ]
  },
  {
   "cell_type": "markdown",
   "metadata": {
    "slideshow": {
     "slide_type": "subslide"
    }
   },
   "source": [
    "Sera de utilidad que el participante tenga conocimiento basico de interaccion con sistemas operativos a traves de la linea de comando. "
   ]
  },
  {
   "cell_type": "markdown",
   "metadata": {
    "colab_type": "text",
    "id": "w0UyLD0GScEl",
    "slideshow": {
     "slide_type": "subslide"
    }
   },
   "source": [
    "Experiencia con los principios fundamentales del Aprendizaje de Máquina e Inteligencia Artificial modernos es útil aunque no es fundamental ya que se espera que al término del curso el participante se lleve las bases."
   ]
  },
  {
   "cell_type": "markdown",
   "metadata": {
    "colab_type": "text",
    "id": "89DPLk9wWKgp",
    "slideshow": {
     "slide_type": "slide"
    }
   },
   "source": [
    "# Acerca del instructor\n",
    "\n"
   ]
  },
  {
   "cell_type": "markdown",
   "metadata": {
    "colab_type": "text",
    "id": "ZtzexqWCXjMp",
    "slideshow": {
     "slide_type": "subslide"
    }
   },
   "source": [
    "<img align=\"left\" width=\"150\" height=\"150\" src=\"http://www.lania.mx/lms/maestrias/pluginfile.php/75/user/icon/moove/f1?rev=7836861\">Horacio Tapia-McClung es profesor/investigador del LANIA especializado en el análisis de grandes datos utilizando métodos de cómputo avanzado que permitan el procesamiento en tiempo real y con recursos limitados."
   ]
  },
  {
   "cell_type": "markdown",
   "metadata": {
    "colab_type": "text",
    "id": "ZtzexqWCXjMp",
    "slideshow": {
     "slide_type": "subslide"
    }
   },
   "source": [
    "También desarrolla y aplica técnicas para el análisis de imágenes usando procesadores gráficos (Redes Neuronales Convolucionales, Deep Learning, análisis morfólogico) y utiliza principios y fundamentos fisicos y matematicos para analizar y estudiar sistemas complejos."
   ]
  },
  {
   "cell_type": "markdown",
   "metadata": {
    "colab_type": "text",
    "id": "ZtzexqWCXjMp",
    "slideshow": {
     "slide_type": "subslide"
    }
   },
   "source": [
    "Algunas de las aplicaciones que ha desarrollado incluyen modelos de falla para motores de diesel, análisis de color en imagenes digitales, estudios sobre movilidad a partir de datos de geolocalización, adquisición y analisis de datos usando dispositivos móviles, aplicaciones del internet de las cosas, entre otros."
   ]
  },
  {
   "cell_type": "markdown",
   "metadata": {
    "colab_type": "text",
    "id": "v-ifxn6TWYLL",
    "slideshow": {
     "slide_type": "subslide"
    }
   },
   "source": [
    "\n",
    "## Datos de contacto\n",
    "\n",
    "<img align=\"left\" width=\"150\" height=\"150\" src=\"http://www.lania.mx/lms/maestrias/pluginfile.php/75/user/icon/moove/f1?rev=7836861\">Horacio Tapia-McClung  \n",
    "Laboratorio Nacional de Informática Avanzada, LANIA, A. C.     \n",
    "<http://www.lania.mx/~htapia>  \n",
    "<htapia@lania.edu.mx>  \n",
    "Tel. +52 228 841-6100 ext. 1011"
   ]
  }
 ],
 "metadata": {
  "celltoolbar": "Slideshow",
  "colab": {
   "collapsed_sections": [
    "qAQvuAm4XYQc",
    "eUAeCNiAWgFr",
    "f92PqkOSSiKy",
    "teUzyKF7SSzN",
    "89DPLk9wWKgp"
   ],
   "name": "DAMJu_Intro.ipynb",
   "provenance": [],
   "version": "0.3.2"
  },
  "kernelspec": {
   "display_name": "Python 2",
   "language": "python",
   "name": "python2"
  },
  "language_info": {
   "codemirror_mode": {
    "name": "ipython",
    "version": 2
   },
   "file_extension": ".py",
   "mimetype": "text/x-python",
   "name": "python",
   "nbconvert_exporter": "python",
   "pygments_lexer": "ipython2",
   "version": "2.7.15"
  }
 },
 "nbformat": 4,
 "nbformat_minor": 1
}

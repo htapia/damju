{
  "nbformat": 4,
  "nbformat_minor": 0,
  "metadata": {
    "colab": {
      "name": "DAMJu_Semana3.ipynb",
      "version": "0.3.2",
      "provenance": [],
      "toc_visible": true,
      "include_colab_link": true
    },
    "kernelspec": {
      "name": "python3",
      "display_name": "Python 3"
    }
  },
  "cells": [
    {
      "cell_type": "markdown",
      "metadata": {
        "id": "view-in-github",
        "colab_type": "text"
      },
      "source": [
        "<a href=\"https://colab.research.google.com/github/htapia/damju/blob/master/DAMJu_Semana3.ipynb\" target=\"_parent\"><img src=\"https://colab.research.google.com/assets/colab-badge.svg\" alt=\"Open In Colab\"/></a>"
      ]
    },
    {
      "metadata": {
        "id": "DLZ9jyIXsAD1",
        "colab_type": "text"
      },
      "cell_type": "markdown",
      "source": [
        "#  Desarrollo de Aplicaciones Móviles con Jupyter\n",
        "\n",
        "## Tópicos Selectos en Aplicaciones Distribuidas Móviles\n",
        "\n",
        "RySI LANIA 2019\n"
      ]
    },
    {
      "metadata": {
        "colab_type": "text",
        "id": "OszFWecCtDAg"
      },
      "cell_type": "markdown",
      "source": [
        "# Semana 3\n",
        "\n",
        "## Aprendizaje de Maquina en Android"
      ]
    },
    {
      "metadata": {
        "colab_type": "text",
        "id": "uCxkbrnVtDA5"
      },
      "cell_type": "markdown",
      "source": [
        "## Introduccion\n",
        "\n",
        "En esta sesion entrenaremos un algortimo de reconocimiento de imagenes que identifica algun tipo de objetos. Despues vamos a aprender como implementar el algoritmo en el dispositivo movil y finalmente utilizarlo para hacer predicciones con el.\n",
        "\n",
        "> Es necesario tener configurado el sistema de acuerdo a los pasos descritos en semanas anteriorios. [Si su configuración no esta lista favor de consultar las notas correspondientes.](https://colab.research.google.com/drive/1IdFnFjePtlUdj6Z21nXwZOJzPjSv3Ian#scrollTo=uCxkbrnVtDA5) En esta sesion vamos a estar utilizando la nube y nuestro sistema local de manera mezclada."
      ]
    },
    {
      "metadata": {
        "colab_type": "text",
        "id": "GGTF-CDxtDBI"
      },
      "cell_type": "markdown",
      "source": [
        "## Objetivos de aprendizaje\n",
        "\n",
        "\n",
        "*   Conocer los fundamentos del Aprendizaje de Maquina (_Machine Learning_) \n",
        "*   Desarrollar una aplicación que utiliza los conceptos de  _machine learning_ y desplegarla en el dispositivo\n",
        "*   Proponer y desarrollar una aplicacion (__Proyecto final__)"
      ]
    },
    {
      "metadata": {
        "id": "AMcBAJYBvhXc",
        "colab_type": "text"
      },
      "cell_type": "markdown",
      "source": [
        "## Requerimentos\n",
        "\n",
        "Si no has configurado tu sistema para satisfacer los requerimentos, [puedes hacerlo siguiendo las instrucciones de la primera semana](https://colab.research.google.com/drive/1IdFnFjePtlUdj6Z21nXwZOJzPjSv3Ian#scrollTo=uCxkbrnVtDA5)\n",
        "\n",
        "*   Computadora personal con el ambiente de Jupyter y `adb` instalado y configurado\n",
        "*   Dispositivo movil con Android >= 4 y Python instalado a traves de la SL4A\n",
        "*   Conexion a internet\n",
        "*   Cuenta de gmail"
      ]
    },
    {
      "metadata": {
        "colab_type": "text",
        "id": "oOllyIEZtDBX"
      },
      "cell_type": "markdown",
      "source": [
        "## Actividades/Libretas\n",
        "\n",
        "[Favor de revisar que la configuracion de su sistema es correcta](https://colab.research.google.com/drive/1IdFnFjePtlUdj6Z21nXwZOJzPjSv3Ian#scrollTo=oOllyIEZtDBX&line=19&uniqifier=1). Las libretas en esta sesion se ejecutan local y remotamente."
      ]
    },
    {
      "metadata": {
        "id": "PSKdnaaH0oiz",
        "colab_type": "text"
      },
      "cell_type": "markdown",
      "source": [
        "### LibretaS3_01 Introduccion a Machine Learning con Tensor Flow\n",
        "\n",
        "><strong>Nota:</strong> Esta libreta __debe__ ejecutarse en la nube.\n",
        "\n",
        "1. [Abrir una libreta de Jupyter en su computadora, copiar y ejecutar](Video) las siguientes lineas de codigo para establecer comunicacion entre el dispositvo movil y su sistema local\n"
      ]
    },
    {
      "metadata": {
        "id": "CASuTqMn4Nxi",
        "colab_type": "code",
        "outputId": "4b9aa18c-4c8c-4fce-da08-274027ed2d9a",
        "colab": {
          "base_uri": "https://localhost:8080/",
          "height": 35
        }
      },
      "cell_type": "code",
      "source": [
        "print(\"Hola clase\")"
      ],
      "execution_count": 0,
      "outputs": [
        {
          "output_type": "stream",
          "text": [
            "Hola clase\n"
          ],
          "name": "stdout"
        }
      ]
    },
    {
      "metadata": {
        "id": "1Zoujsfs1DNI",
        "colab_type": "text"
      },
      "cell_type": "markdown",
      "source": [
        "### LibretaS3_02 Preparando el dispositivo para desplegar el algoritmo de entrenamiento\n",
        "\n",
        "><strong>Nota:</strong> Esta libreta __debe__ ejecutarse en su sistema local ya que depende de la configuracion especifica para establecer comunicacion con el dispositivo movil.\n"
      ]
    },
    {
      "metadata": {
        "id": "X4e77Lae1l7U",
        "colab_type": "text"
      },
      "cell_type": "markdown",
      "source": [
        "### LibretaS3_03 Exploracion de usar Python para desplegar el algoritmo\n",
        "\n",
        "><strong>Nota:</strong> Esta libreta __debe__ ejecutarse en su sistema local ya que depende de la configuracion especifica para establecer comunicacion con el dispositivo movil."
      ]
    },
    {
      "metadata": {
        "colab_type": "text",
        "id": "NSGL9zBJtDBS"
      },
      "cell_type": "markdown",
      "source": [
        "## Material/Herramientas\n",
        "\n",
        "1.  Video como iniciar una libreta de Jupyter en su sistema local y ejecutar codigo\n",
        "8.  Video como ejecutar el intérprete de Python en Android (remoto) desde Jupyter (local)\n",
        "7.  Video como establecer comunicación entre Jupyter y Android"
      ]
    },
    {
      "metadata": {
        "colab_type": "text",
        "id": "rcGMynSUtDBc"
      },
      "cell_type": "markdown",
      "source": [
        "## Enlaces/recursos externos\n",
        "\n",
        "1. [Descargar Anaconda/](https://www.anaconda.com/download/)\n",
        "2. [Scripting Layer 4 Android](https://github.com/htapia/sl4a)\n",
        "3. [Python for Android](https://github.com/htapia/python-for-android)\n",
        "*   [Google Collaborative](https://colab.research.google.com/notebooks/welcome.ipynb)\n",
        "*   [Respositorio libro Jupyter en GitHub](https://github.com/jupyter4edu/jupyter-edu-book)\n",
        "*  [Python](www.python.org)\n"
      ]
    }
  ]
}
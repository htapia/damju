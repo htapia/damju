{
  "nbformat": 4,
  "nbformat_minor": 0,
  "metadata": {
    "colab": {
      "name": "DAMJu_Semana1.ipynb",
      "version": "0.3.2",
      "provenance": [],
      "include_colab_link": true
    },
    "kernelspec": {
      "name": "python3",
      "display_name": "Python 3"
    }
  },
  "cells": [
    {
      "cell_type": "markdown",
      "metadata": {
        "id": "view-in-github",
        "colab_type": "text"
      },
      "source": [
        "<a href=\"https://colab.research.google.com/github/htapia/damju/blob/master/DAMJu_Semana1.ipynb\" target=\"_parent\"><img src=\"https://colab.research.google.com/assets/colab-badge.svg\" alt=\"Open In Colab\"/></a>"
      ]
    },
    {
      "metadata": {
        "id": "DLZ9jyIXsAD1",
        "colab_type": "text"
      },
      "cell_type": "markdown",
      "source": [
        "#  Desarrollo de Aplicaciones Móviles con Jupyter\n",
        "\n",
        "## Tópicos Selectos en Aplicaciones Distribuidas Móviles\n",
        "\n",
        "RySI LANIA 2019\n"
      ]
    },
    {
      "metadata": {
        "colab_type": "text",
        "id": "OszFWecCtDAg"
      },
      "cell_type": "markdown",
      "source": [
        "# Semana 1 \n",
        "\n",
        "## Conociendo la herramienta de trabajo: el ecosistema de desarrollo de Jupyter"
      ]
    },
    {
      "metadata": {
        "colab_type": "text",
        "id": "uCxkbrnVtDA5"
      },
      "cell_type": "markdown",
      "source": [
        "## Introduccion\n",
        "\n",
        "Aun cuando Google proporciona una herramienta sólida para el desarrollo de software para dispositivos android (SDK), ésta está orientada a Java, y cuando todo lo que queremos hacer es un script sencillo para automatizar tareas o procesos en android, o incluso para el desarrollo rápido y ágil de aplicaciones, el uso de Java puede ser tedioso con el diseño de programación tradicional de editar-compilar-ejecutar.\n",
        "\n",
        "Para estos casos el uso de un lenguaje programación interpretado puede acelerar el desarrollo de aplicaciones, y es aquí donde el proyecto del Scripting Layer 4 Android, o SL4A, se vuelve una herramienta útil para escribir código para dispositivos móviles con android y en lenguajes diferentes a Java y hacerlo de una forma interactiva.\n",
        "\n",
        "Al momento de preparar este curso el SL4A soporta Beanshell, JRuby, Lua, Perl, PHP, Python y Rhino. El curso está enfocado en el uso de Python por su flexibilidad, sencillez y soporte a través de una gran comunidad de múltiples disciplinas que contribuyen a su desarrollo. Además de ser software libre, Python es uno de los principales lenguajes utilizados en la naciente disciplina de la Ciencia de Datos. "
      ]
    },
    {
      "metadata": {
        "colab_type": "text",
        "id": "GGTF-CDxtDBI"
      },
      "cell_type": "markdown",
      "source": [
        "## Objetivos de aprendizaje\n",
        "\n",
        "*   Conocer el proceso de instalación y configuración del ecosistema de Jupyter en su computadora personal\n",
        "*   Conocer el proceso de instalación y configuración de Python para Android en dispositivos móviles\n",
        "*   Configurar los sistemas para establecer una comunicación interactiva entre Jupyter y Android\n",
        "*   Ejecutar agunos scripts de prueba\n",
        "*  Conocer el ecosistema Jupyter en la nube"
      ]
    },
    {
      "metadata": {
        "id": "AMcBAJYBvhXc",
        "colab_type": "text"
      },
      "cell_type": "markdown",
      "source": [
        "## Requerimentos\n",
        "\n",
        "*   Computadora personal\n",
        "*   Dispositivo movil con Android >= 4.\n",
        "*   Android Studio\n",
        "*   Conexion a internet\n",
        "*   Cuenta de gmail"
      ]
    },
    {
      "metadata": {
        "colab_type": "text",
        "id": "oOllyIEZtDBX"
      },
      "cell_type": "markdown",
      "source": [
        "## Actividades/Libretas\n",
        "\n",
        "Vamos a revisar la configuracion de su sistema. Debemos tener disponibles las siguientes configuraciones en nuestro sistema:\n",
        "\n",
        "* Instalacion del ecosistema de Jupyter [Libreta 1](https://colab.research.google.com/drive/1y4HUsz4FTEwa0N5Hbq91q7SCqH_jzl1W)\n",
        "\n",
        "* Instalar y configurar `adb` [Libreta 2](https://colab.research.google.com/drive/1y4HUsz4FTEwa0N5Hbq91q7SCqH_jzl1W) \n",
        "\n",
        "* Ecosistema de Jupyter en la nube a traves de [Google Collaborative](https://colab.research.google.com/notebooks/welcome.ipynb)\n",
        ">Collaborative te permite conectarte a un tiempo de ejecución de Jupyter en tu ordenador local. Puedes consultar más información en la [documentación](https://research.google.com/colaboratory/local-runtimes.html).<br><br>Copia y pega el siguiente comando en la consola para iniciar el servidor local y permitir conexiones con la nube:<br><br>\n",
        ">`jupyter notebook --NotebookApp.allow_origin='https://colab.research.google.com'  --port=8888 --NotebookApp.port_retries=0 --no-browser`<br>\n",
        ">**Nota:** si queremos utilizar la plataforma de Jupyter en la nube e interactuar con nuestro sistema local debemos iniciar el servidor con el comando anterior al inicio de cada sesion si queremos tener acceso a nuestro sistema local.\n",
        "\n",
        "\n",
        "* Python 4 Android en dispositivo movil\n",
        ">Es preferible contar con un dispositivo que soporte una versión del sistema operativo Android igual  o mayor a la versión 4; hemos tenido dificultades con versiones del sistema operativo menores a la 4.\n",
        "\n",
        "* Instalar y configurar `adb` para detectar dispositivo movil en el sistema local. Puede obtenerse [en el siguiente enlace](https://developer.android.com/studio/releases/platform-tools#download). La documentacion de `adb` [puede consultarse aqui](https://developer.android.com/studio/command-line/adb?hl=es). \n",
        "* Comunicacion entre dispositivo movil y ambiente Jupyter\n",
        ">Aunque es importante entender las diferencias entre sistemas operativos, el ecosistema de Jupyter es en muchos sentidos multiplataforma. Sin embargo será necesario realizar algunas configuraciones particulares de acceso a los archivos para permitir que los ejecutables de Android (en particular `adb`) puedan usarse y estos si dependen del sistema operativo.\n",
        "\n",
        "\n",
        "Las siguientes libretas se deben ejecutar en el sistem que se se indica con el fin de construir la comunicacion necesaria entre sistema local y dispositivo movil."
      ]
    },
    {
      "metadata": {
        "id": "PSKdnaaH0oiz",
        "colab_type": "text"
      },
      "cell_type": "markdown",
      "source": [
        "### LibretaS1_01 Revisando configuracion local\n",
        "\n",
        "><strong>Nota:</strong> Esta libreta tambien puede ejecutarse en la nube.Sin embargo, se sugiere hacerlo en su sistema local para asegurar que esta funcionando como se espera.\n",
        "\n",
        "1. [Abrir una libreta de Jupyter en su computadora, copiar y ejecutar](Video) las siguientes lineas de codigo.\n"
      ]
    },
    {
      "metadata": {
        "id": "CASuTqMn4Nxi",
        "colab_type": "code",
        "outputId": "4b9aa18c-4c8c-4fce-da08-274027ed2d9a",
        "colab": {
          "base_uri": "https://localhost:8080/",
          "height": 35
        }
      },
      "cell_type": "code",
      "source": [
        "print(\"Hola clase\")"
      ],
      "execution_count": 0,
      "outputs": [
        {
          "output_type": "stream",
          "text": [
            "Hola clase\n"
          ],
          "name": "stdout"
        }
      ]
    },
    {
      "metadata": {
        "colab_type": "text",
        "id": "Cxai4X4z7C-r"
      },
      "cell_type": "markdown",
      "source": [
        "### LibretaS1_02 Estableciendo comunicacion con Android\n",
        "\n",
        "><strong>Nota:</strong> Esta libreta tambien puede ejecutarse en la nube.Sin embargo, se sugiere hacerlo en su sistema local para asegurar que esta funcionando como se espera.\n",
        "\n",
        "1. [Abrir una libreta de Jupyter en su computadora, copiar y ejecutar](Video) las siguientes lineas de codigo.\n"
      ]
    },
    {
      "metadata": {
        "id": "1Zoujsfs1DNI",
        "colab_type": "text"
      },
      "cell_type": "markdown",
      "source": [
        "### LibretaS1_03 Introducción a la API de Android\n",
        "\n",
        "><strong>Nota:</strong> Esta libreta __debe__ ejecutarse en su sistema local ya que depende de la configuracion especifica para establecer comunicacion con el dispositivo movil.\n"
      ]
    },
    {
      "metadata": {
        "colab_type": "text",
        "id": "ki9Jwv-P7Uvs"
      },
      "cell_type": "markdown",
      "source": [
        "### LibretaS1_04 Jupyter en la nube\n",
        "\n",
        "><strong>Nota:</strong> Esta libreta tambien puede ejecutarse en su sistema local.Sin embargo es muy probable que funcione correctamente ya que Jupyter en la nube contiene librerias que no han sido configuradas en su sistema local (por ejemplo TensorFlow)\n",
        "\n",
        "1. [Abrir una libreta de Jupyter en su computadora, copiar y ejecutar](Video) las siguientes lineas de codigo.\n"
      ]
    },
    {
      "metadata": {
        "colab_type": "code",
        "outputId": "4b9aa18c-4c8c-4fce-da08-274027ed2d9a",
        "id": "7aU_SfEA7Uvw",
        "colab": {
          "base_uri": "https://localhost:8080/",
          "height": 35
        }
      },
      "cell_type": "code",
      "source": [
        "print(\"Hola clase\")"
      ],
      "execution_count": 0,
      "outputs": [
        {
          "output_type": "stream",
          "text": [
            "Hola clase\n"
          ],
          "name": "stdout"
        }
      ]
    },
    {
      "metadata": {
        "colab_type": "text",
        "id": "NSGL9zBJtDBS"
      },
      "cell_type": "markdown",
      "source": [
        "## Material/Herramientas\n",
        "\n",
        "1.  Video como instalar el ecosistema Jupyter en su sistema utilizando Anaconda\n",
        "2.  Video como configurar `adb` en su sistema, a) windows, b) \\*nix\n",
        "3.  Video como instalar SL4A en dispositivo móvil\n",
        "4.  Video como instalar Python en Android\n",
        "5.  Video como iniciar el intérprete de Python en Android\n",
        "6.  Video como ejecutar un script de Python en Android\n",
        "7.  Video como establecer comunicación entre Jupyter y Android\n",
        "8.  Video como ejecutar el intérprete de Python en Android (remoto) desde Jupyter (local)"
      ]
    },
    {
      "metadata": {
        "colab_type": "text",
        "id": "rcGMynSUtDBc"
      },
      "cell_type": "markdown",
      "source": [
        "## Enlaces/recursos externos\n",
        "\n",
        "1. [Descargar Anaconda/](https://www.anaconda.com/download/)\n",
        "2. [Descargar AndroidStudio](https://developer.android.com/studio/)\n",
        "2. [Scripting Layer 4 Android](https://github.com/htapia/sl4a)\n",
        "3. [Python for Android](https://github.com/htapia/python-for-android)\n",
        "*   [Google Collaborative](https://colab.research.google.com/notebooks/welcome.ipynb)\n",
        "*   [Google Collaborative FAQ](https://research.google.com/colaboratory/faq.html)\n",
        "*   [Respositorio libro Jupyter en GitHub](https://github.com/jupyter4edu/jupyter-edu-book)\n",
        "*   [Python](www.python.org)\n"
      ]
    }
  ]
}
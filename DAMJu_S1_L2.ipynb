{
  "nbformat": 4,
  "nbformat_minor": 0,
  "metadata": {
    "colab": {
      "name": "DAMJu_S1_L2.ipynb",
      "version": "0.3.2",
      "provenance": [],
      "include_colab_link": true
    },
    "kernelspec": {
      "name": "python2",
      "display_name": "Python 2"
    }
  },
  "cells": [
    {
      "cell_type": "markdown",
      "metadata": {
        "id": "view-in-github",
        "colab_type": "text"
      },
      "source": [
        "<a href=\"https://colab.research.google.com/github/htapia/damju/blob/master/DAMJu_S1_L2.ipynb\" target=\"_parent\"><img src=\"https://colab.research.google.com/assets/colab-badge.svg\" alt=\"Open In Colab\"/></a>"
      ]
    },
    {
      "metadata": {
        "id": "j6weJDNAsX2s",
        "colab_type": "text"
      },
      "cell_type": "markdown",
      "source": [
        "# Semana 1 Libreta 2"
      ]
    },
    {
      "metadata": {
        "id": "BRCoLwQysUJO",
        "colab_type": "text"
      },
      "cell_type": "markdown",
      "source": [
        "# Instalacion local de `adb` \n",
        "\n",
        "`adb` es el programa proporcionado por los desarrolladores de Android para detectar dispositivo movil en el sistema local. Puede obtenerse [en el siguiente enlace](https://developer.android.com/studio/releases/platform-tools#download). La documentacion de `adb` [puede consultarse aqui](https://developer.android.com/studio/command-line/adb?hl=es). \n",
        "* Comunicacion entre dispositivo movil y ambiente Jupyter\n",
        ">Aunque es importante entender las diferencias entre sistemas operativos, el ecosistema de Jupyter es en muchos sentidos multiplataforma. Sin embargo será necesario realizar algunas configuraciones particulares de acceso a los archivos para permitir que los ejecutables de Android (en particular `adb`) puedan usarse y estos si dependen del sistema operativo."
      ]
    },
    {
      "metadata": {
        "id": "H43c0B1bsnAM",
        "colab_type": "code",
        "colab": {
          "base_uri": "https://localhost:8080/",
          "height": 336
        },
        "outputId": "d289197f-5bcb-4a3d-cf85-7df6e285f9a3"
      },
      "cell_type": "code",
      "source": [
        "%%HTML\n",
        "<iframe width=\"560\" height=\"315\" src=\"https://www.youtube.com/embed/c5Ir8ywvFsw\" frameborder=\"0\" \n",
        "allow=\"accelerometer; autoplay; encrypted-media; gyroscope; picture-in-picture\" allowfullscreen></iframe>\n"
      ],
      "execution_count": 1,
      "outputs": [
        {
          "output_type": "display_data",
          "data": {
            "text/plain": [
              "<IPython.core.display.HTML object>"
            ],
            "text/html": [
              "<iframe width=\"560\" height=\"315\" src=\"https://www.youtube.com/embed/c5Ir8ywvFsw\" frameborder=\"0\" \n",
              "allow=\"accelerometer; autoplay; encrypted-media; gyroscope; picture-in-picture\" allowfullscreen></iframe>"
            ]
          },
          "metadata": {
            "tags": []
          }
        }
      ]
    },
    {
      "metadata": {
        "id": "_Je0aqZzstSd",
        "colab_type": "code",
        "colab": {}
      },
      "cell_type": "code",
      "source": [
        ""
      ],
      "execution_count": 0,
      "outputs": []
    }
  ]
}
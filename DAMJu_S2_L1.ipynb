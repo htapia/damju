{
  "nbformat": 4,
  "nbformat_minor": 0,
  "metadata": {
    "colab": {
      "name": "DAMJu_S2_L1.ipynb",
      "version": "0.3.2",
      "provenance": [],
      "include_colab_link": true
    },
    "kernelspec": {
      "name": "python3",
      "display_name": "Python 3"
    }
  },
  "cells": [
    {
      "cell_type": "markdown",
      "metadata": {
        "id": "view-in-github",
        "colab_type": "text"
      },
      "source": [
        "<a href=\"https://colab.research.google.com/github/htapia/damju/blob/master/DAMJu_S2_L1.ipynb\" target=\"_parent\"><img src=\"https://colab.research.google.com/assets/colab-badge.svg\" alt=\"Open In Colab\"/></a>"
      ]
    },
    {
      "metadata": {
        "id": "RagPgeHZpLHE",
        "colab_type": "code",
        "outputId": "6ebe8afb-712c-4113-badd-f2f56061600b",
        "colab": {
          "base_uri": "https://localhost:8080/",
          "height": 144
        }
      },
      "cell_type": "code",
      "source": [
        "!curl http://download.tensorflow.org/example_images/flower_photos.tgz \\\n",
        "    | tar xz -C tf_files"
      ],
      "execution_count": 0,
      "outputs": [
        {
          "output_type": "stream",
          "text": [
            "  % Total    % Received % Xferd  Average Speed   Time    Time     Time  Current\n",
            "                                 Dload  Upload   Total   Spent    Left  Speed\n",
            "\r  0     0    0     0    0     0      0      0 --:--:-- --:--:-- --:--:--     0tar: tf_files: Cannot open: No such file or directory\n",
            "tar: Error is not recoverable: exiting now\n",
            "\r  0  218M    0  316k    0     0  2107k      0  0:01:46 --:--:--  0:01:46 2107k\n",
            "curl: (23) Failed writing body (3930 != 16384)\n"
          ],
          "name": "stdout"
        }
      ]
    },
    {
      "metadata": {
        "id": "o7xwDIETpMEv",
        "colab_type": "code",
        "outputId": "29b10f4b-6021-47c8-d409-bae239788eca",
        "colab": {
          "base_uri": "https://localhost:8080/",
          "height": 106
        }
      },
      "cell_type": "code",
      "source": [
        "if not os.path.isdir(\"tensorflow-for-poets-2\"):\n",
        "  !git clone https://github.com/googlecodelabs/tensorflow-for-poets-2"
      ],
      "execution_count": 0,
      "outputs": [
        {
          "output_type": "stream",
          "text": [
            "Cloning into 'tensorflow-for-poets-2'...\n",
            "remote: Enumerating objects: 405, done.\u001b[K\n",
            "remote: Total 405 (delta 0), reused 0 (delta 0), pack-reused 405\u001b[K\n",
            "Receiving objects: 100% (405/405), 33.96 MiB | 33.22 MiB/s, done.\n",
            "Resolving deltas: 100% (149/149), done.\n"
          ],
          "name": "stdout"
        }
      ]
    },
    {
      "metadata": {
        "id": "wmgLxQi9w7e2",
        "colab_type": "text"
      },
      "cell_type": "markdown",
      "source": [
        "2. Checar que el dispositivo esta siendo detectado por el sistema local"
      ]
    },
    {
      "metadata": {
        "id": "iXSQk5c6qtB_",
        "colab_type": "code",
        "outputId": "438d206c-3dfe-4897-fdfe-f42af5cf1785",
        "colab": {
          "base_uri": "https://localhost:8080/",
          "height": 71
        }
      },
      "cell_type": "code",
      "source": [
        "!adb devices"
      ],
      "execution_count": 2,
      "outputs": [
        {
          "output_type": "stream",
          "text": [
            "List of devices attached\n",
            "98f2eeee\tdevice\n",
            "\n"
          ],
          "name": "stdout"
        }
      ]
    },
    {
      "metadata": {
        "id": "dRfLwD5XxqA5",
        "colab_type": "text"
      },
      "cell_type": "markdown",
      "source": [
        "4. Revisar que la variable de entorno `AP_PORT` esta definida"
      ]
    },
    {
      "metadata": {
        "id": "Ehb1e6pgxula",
        "colab_type": "code",
        "colab": {
          "base_uri": "https://localhost:8080/",
          "height": 35
        },
        "outputId": "d9b44d20-d645-4392-e9bf-b8684ff1d049"
      },
      "cell_type": "code",
      "source": [
        "!echo $AP_PORT"
      ],
      "execution_count": 3,
      "outputs": [
        {
          "output_type": "stream",
          "text": [
            "9999\r\n"
          ],
          "name": "stdout"
        }
      ]
    },
    {
      "metadata": {
        "id": "LHQh4H_vxwgq",
        "colab_type": "text"
      },
      "cell_type": "markdown",
      "source": [
        "5. Establecer conexion entre el sistema y el dispositvo a traves de `adb`"
      ]
    },
    {
      "metadata": {
        "id": "hfhrX5TXyI56",
        "colab_type": "code",
        "colab": {}
      },
      "cell_type": "code",
      "source": [
        "!adb forward tcp:9999 tcp:2222"
      ],
      "execution_count": 0,
      "outputs": []
    },
    {
      "metadata": {
        "id": "tHldn9v5xBij",
        "colab_type": "text"
      },
      "cell_type": "markdown",
      "source": [
        "3. Importar modulo `android.py` al entorno de ejecucion"
      ]
    },
    {
      "metadata": {
        "id": "bsgM2oMfqsc5",
        "colab_type": "code",
        "colab": {}
      },
      "cell_type": "code",
      "source": [
        "import android"
      ],
      "execution_count": 0,
      "outputs": []
    },
    {
      "metadata": {
        "id": "qGSROeliyR7-",
        "colab_type": "text"
      },
      "cell_type": "markdown",
      "source": [
        "Si el comando anterior no arroja un error, significa que el sistema importa el modulo de `android` correctamente y podemos crear una instancia de la clase `android` como"
      ]
    },
    {
      "metadata": {
        "id": "8MFXmmU1yfc7",
        "colab_type": "code",
        "colab": {}
      },
      "cell_type": "code",
      "source": [
        "droide = android.Android()"
      ],
      "execution_count": 0,
      "outputs": []
    },
    {
      "metadata": {
        "id": "QD5PSrOpyhV5",
        "colab_type": "text"
      },
      "cell_type": "markdown",
      "source": [
        "Si el comando anterior es exitoso estamos listos para interactuar con el dispositivo desde Python!"
      ]
    },
    {
      "metadata": {
        "id": "NTHwK1_ryr25",
        "colab_type": "code",
        "colab": {
          "base_uri": "https://localhost:8080/",
          "height": 35
        },
        "outputId": "c17a64d3-ea9f-496d-db02-6f9e4566c02c"
      },
      "cell_type": "code",
      "source": [
        "droide.makeToast(\"Hola desde Jupyter!\")"
      ],
      "execution_count": 6,
      "outputs": [
        {
          "output_type": "execute_result",
          "data": {
            "text/plain": [
              "Result(id=0, result=None, error=None)"
            ]
          },
          "metadata": {
            "tags": []
          },
          "execution_count": 6
        }
      ]
    },
    {
      "metadata": {
        "id": "AOCkYBW3yyW6",
        "colab_type": "text"
      },
      "cell_type": "markdown",
      "source": [
        "El resultado siempre es un objeto, cuando se evalua el comando se imprimen los campos que resultan de la evaluacion"
      ]
    },
    {
      "metadata": {
        "id": "V94buxHE4VoI",
        "colab_type": "code",
        "colab": {
          "base_uri": "https://localhost:8080/",
          "height": 55
        },
        "outputId": "ad614ffb-2ce0-4e38-d334-01e85c25c755"
      },
      "cell_type": "code",
      "source": [
        "droide.getLaunchableApplications()"
      ],
      "execution_count": 20,
      "outputs": [
        {
          "output_type": "execute_result",
          "data": {
            "text/plain": [
              "Result(id=4, result={u'Contactos': u'com.android.contacts.activities.PeopleActivity', u'SL4A': u'com.googlecode.android_scripting.activity.ScriptManager', u'Grabador de sonido': u'com.tct.soundrecorder.activity.SoundRecorderMainActivity', u'Play Libros': u'com.google.android.apps.books.app.BooksActivity', u'Duo': u'com.google.android.apps.tachyon.MainActivity', u'Chrome': u'com.google.android.apps.chrome.Main', u'YouTube': u'com.google.android.youtube.app.honeycomb.Shell$HomeActivity', u'Support': u'com.rsupport.rs.activity.edit.IntroActivity', u'Clarokids': u'com.movile.playkids.UnityPlayerActivity', u'Onetouch Care': u'com.alcatel.alcatelonetouch.SplashScreenActivity', u'Puzzle Pets': u'com.gameloft.android.GloftDBMF.Start', u'IMU+GPS-Stream': u'de.lorenz_fenster.sensorstreamgps.SensorStreamActivity', u'Play Pel\\xedculas': u'com.google.android.youtube.videos.EntryPoint', u'Reloj': u'com.tct.timetool.DeskClock', u'Hangouts': u'com.google.android.talk.SigningInActivity', u'Claro m\\xfasica': u'com.telcel.imk.MainActivity', u'Fotos': u'com.google.android.apps.photos.home.HomeActivity', u'Lithium': u'com.faultexception.reader.MainActivity', u'Maps': u'com.google.android.maps.MapsActivity', u'Gesti\\xf3n de archivos': u'com.jrdcom.filemanager.activity.FileBrowserActivity', u'Python for Android': u'com.googlecode.pythonforandroid.PythonMain', u'Google': u'com.google.android.googlequicksearchbox.SearchActivity', u'Kingdoms & Lords': u'com.gameloft.android.GloftKLMF.Start', u'Notas': u'com.tct.note.ui.NotesListActivity', u'Portal Claroideas': u'com.portal.Portal', u'DCI': u'appinventor.ai_horaciotmc.DCI2.Screen1', u'Walli': u'com.shanga.walli.mvp.splash.SplashActivity', u'Mensajes': u'com.android.mms.ui.ConversationList', u'Smart Suite': u'com.tcl.smartsuite.MainActivity', u'Correo electr\\xf3nico': u'com.tct.email.activity.Welcome', u'Play Juegos': u'com.google.android.gms.games.ui.destination.main.MainActivity', u'Ajustes de Google': u'com.google.android.gms.app.settings.GoogleSettingsActivity', u'DU Recorder': u'com.duapps.screen.recorder.SplashActivity', u'Play Store': u'com.android.vending.AssetBrowserActivity', u'Claro juegos': u'com.gameloft.android.gdc.GDCMainShop', u'Wi-Fi Display': u'com.android.settings.wfd.WifiDisplayEnableActivity', u'Book Cr...': u'com.appli.bookcr.WelcomeActivity', u'Telcel': u'com.telcel.contenedor.gui.activities.AppsContainerActivity', u'Descargas': u'com.android.providers.downloads.ui.DownloadList', u'B\\xfasqueda por voz': u'com.google.android.googlequicksearchbox.VoiceSearchActivity', u'Calendario': u'com.android.calendar.AllInOneActivity', u'wecourses': u'net.wecourses.mobile.wecourses', u'Ajustes': u'com.android.settings.Settings', u'Google+': u'com.google.android.apps.plus.phone.HomeActivity', u'Little Big City': u'com.gameloft.android.GloftLCEF.Start', u'Asistente': u'com.google.android.apps.gsa.staticplugins.opa.EnterOpaActivityFromLauncher', u'Phonto': u'com.youthhr.phonto.PhontoActivity', u'Keep (notas)': u'com.google.android.keep.activities.BrowseActivity', u'Vysor': u'com.koushikdutta.vysor.StartActivity', u'Drive': u'com.google.android.apps.docs.app.NewMainProxyActivity', u'Mi Telcel': u'com.speedymovil.wire.Login', u'Clarosalud': u'com.elunviersal.isalud.ClarosaludActivity', u'Facebook': u'com.facebook.katana.LoginActivity', u'Galer\\xeda': u'com.tct.gallery3d.app.PermissionActivity', u'Wi-Fi Transfer': u'com.jrdcom.wifitransfer.welcome.LauncherActivity', u'Calculadora': u'com.tct.calculator.Calculator', u'SIM Telcel': u'com.android.stk.StkLauncherActivity', u'NFC': u'com.jrdcom.apps.tag.MainMenu', u'C\\xe1mara': u'com.android.camera.CameraLauncher', u'Play M\\xfasica': u'com.android.music.activitymanagement.TopLevelActivity', u'M\\xfasica': u'com.alcatel.music5.activities.Music5WelcomeActivity', u'Navegaci\\xf3n Segura': u'com.fsecure.browser.BrowserActivity', u'Video Comprimir': u'com.melgames.videocompress.AlbumListActivity', u'WA Business': u'com.whatsapp.Main', u'Clarosync': u'com.fsecure.mobile.sync.StartupActivity', u'Actualizar sistema': u'com.tcl.fota.FotaClientActivity', u'Navegador': u'com.android.browser.BrowserActivity', u'Consumo': u'telcel.net.MainActivity', u'Noticias': u'com.google.apps.dots.android.app.activity.CurrentsStartActivity', u'Tel\\xe9fono': u'com.android.dialer.DialtactsActivity', u'Radio': u'com.tct.fmradio.ui.FMActivity', u'ClaroVideo': u'com.clarovideo.app.ui.activities.SplashActivity', u'SPIDER-MAN: ULTIMATE POWER': u'com.gameloft.android.GloftSMIM.Start', u'Cars Racing': u'com.gameloft.android.GloftCRSM.Start', u'Gmail': u'com.google.android.gm.ConversationListActivityGmail', u'Seguridad Total': u'com.fsecure.ms.ui.LauncherActivity'}, error=None)"
            ]
          },
          "metadata": {
            "tags": []
          },
          "execution_count": 20
        }
      ]
    },
    {
      "metadata": {
        "id": "zIdlo79O4keo",
        "colab_type": "code",
        "colab": {}
      },
      "cell_type": "code",
      "source": [
        "toast.result"
      ],
      "execution_count": 0,
      "outputs": []
    },
    {
      "metadata": {
        "id": "hqVVHaH-4nfZ",
        "colab_type": "code",
        "colab": {
          "base_uri": "https://localhost:8080/",
          "height": 55
        },
        "outputId": "39a9ec14-9980-47e9-d66d-60f0383b2362"
      },
      "cell_type": "code",
      "source": [
        "apps = droide.getLaunchableApplications()\n",
        "print(apps.result)"
      ],
      "execution_count": 21,
      "outputs": [
        {
          "output_type": "stream",
          "text": [
            "{u'Contactos': u'com.android.contacts.activities.PeopleActivity', u'SL4A': u'com.googlecode.android_scripting.activity.ScriptManager', u'Grabador de sonido': u'com.tct.soundrecorder.activity.SoundRecorderMainActivity', u'Play Libros': u'com.google.android.apps.books.app.BooksActivity', u'Duo': u'com.google.android.apps.tachyon.MainActivity', u'Chrome': u'com.google.android.apps.chrome.Main', u'YouTube': u'com.google.android.youtube.app.honeycomb.Shell$HomeActivity', u'Support': u'com.rsupport.rs.activity.edit.IntroActivity', u'Clarokids': u'com.movile.playkids.UnityPlayerActivity', u'Onetouch Care': u'com.alcatel.alcatelonetouch.SplashScreenActivity', u'Puzzle Pets': u'com.gameloft.android.GloftDBMF.Start', u'IMU+GPS-Stream': u'de.lorenz_fenster.sensorstreamgps.SensorStreamActivity', u'Play Pel\\xedculas': u'com.google.android.youtube.videos.EntryPoint', u'Reloj': u'com.tct.timetool.DeskClock', u'Hangouts': u'com.google.android.talk.SigningInActivity', u'Claro m\\xfasica': u'com.telcel.imk.MainActivity', u'Fotos': u'com.google.android.apps.photos.home.HomeActivity', u'Lithium': u'com.faultexception.reader.MainActivity', u'Maps': u'com.google.android.maps.MapsActivity', u'Gesti\\xf3n de archivos': u'com.jrdcom.filemanager.activity.FileBrowserActivity', u'Python for Android': u'com.googlecode.pythonforandroid.PythonMain', u'Google': u'com.google.android.googlequicksearchbox.SearchActivity', u'Kingdoms & Lords': u'com.gameloft.android.GloftKLMF.Start', u'Notas': u'com.tct.note.ui.NotesListActivity', u'Portal Claroideas': u'com.portal.Portal', u'DCI': u'appinventor.ai_horaciotmc.DCI2.Screen1', u'Walli': u'com.shanga.walli.mvp.splash.SplashActivity', u'Mensajes': u'com.android.mms.ui.ConversationList', u'Smart Suite': u'com.tcl.smartsuite.MainActivity', u'Correo electr\\xf3nico': u'com.tct.email.activity.Welcome', u'Play Juegos': u'com.google.android.gms.games.ui.destination.main.MainActivity', u'Ajustes de Google': u'com.google.android.gms.app.settings.GoogleSettingsActivity', u'DU Recorder': u'com.duapps.screen.recorder.SplashActivity', u'Play Store': u'com.android.vending.AssetBrowserActivity', u'Claro juegos': u'com.gameloft.android.gdc.GDCMainShop', u'Wi-Fi Display': u'com.android.settings.wfd.WifiDisplayEnableActivity', u'Book Cr...': u'com.appli.bookcr.WelcomeActivity', u'Telcel': u'com.telcel.contenedor.gui.activities.AppsContainerActivity', u'Descargas': u'com.android.providers.downloads.ui.DownloadList', u'B\\xfasqueda por voz': u'com.google.android.googlequicksearchbox.VoiceSearchActivity', u'Calendario': u'com.android.calendar.AllInOneActivity', u'wecourses': u'net.wecourses.mobile.wecourses', u'Ajustes': u'com.android.settings.Settings', u'Google+': u'com.google.android.apps.plus.phone.HomeActivity', u'Little Big City': u'com.gameloft.android.GloftLCEF.Start', u'Asistente': u'com.google.android.apps.gsa.staticplugins.opa.EnterOpaActivityFromLauncher', u'Phonto': u'com.youthhr.phonto.PhontoActivity', u'Keep (notas)': u'com.google.android.keep.activities.BrowseActivity', u'Vysor': u'com.koushikdutta.vysor.StartActivity', u'Drive': u'com.google.android.apps.docs.app.NewMainProxyActivity', u'Mi Telcel': u'com.speedymovil.wire.Login', u'Clarosalud': u'com.elunviersal.isalud.ClarosaludActivity', u'Facebook': u'com.facebook.katana.LoginActivity', u'Galer\\xeda': u'com.tct.gallery3d.app.PermissionActivity', u'Wi-Fi Transfer': u'com.jrdcom.wifitransfer.welcome.LauncherActivity', u'Calculadora': u'com.tct.calculator.Calculator', u'SIM Telcel': u'com.android.stk.StkLauncherActivity', u'NFC': u'com.jrdcom.apps.tag.MainMenu', u'C\\xe1mara': u'com.android.camera.CameraLauncher', u'Play M\\xfasica': u'com.android.music.activitymanagement.TopLevelActivity', u'M\\xfasica': u'com.alcatel.music5.activities.Music5WelcomeActivity', u'Navegaci\\xf3n Segura': u'com.fsecure.browser.BrowserActivity', u'Video Comprimir': u'com.melgames.videocompress.AlbumListActivity', u'WA Business': u'com.whatsapp.Main', u'Clarosync': u'com.fsecure.mobile.sync.StartupActivity', u'Actualizar sistema': u'com.tcl.fota.FotaClientActivity', u'Navegador': u'com.android.browser.BrowserActivity', u'Consumo': u'telcel.net.MainActivity', u'Noticias': u'com.google.apps.dots.android.app.activity.CurrentsStartActivity', u'Tel\\xe9fono': u'com.android.dialer.DialtactsActivity', u'Radio': u'com.tct.fmradio.ui.FMActivity', u'ClaroVideo': u'com.clarovideo.app.ui.activities.SplashActivity', u'SPIDER-MAN: ULTIMATE POWER': u'com.gameloft.android.GloftSMIM.Start', u'Cars Racing': u'com.gameloft.android.GloftCRSM.Start', u'Gmail': u'com.google.android.gm.ConversationListActivityGmail', u'Seguridad Total': u'com.fsecure.ms.ui.LauncherActivity'}\n"
          ],
          "name": "stdout"
        }
      ]
    },
    {
      "metadata": {
        "id": "EswtH6G66FAY",
        "colab_type": "text"
      },
      "cell_type": "markdown",
      "source": [
        "Amplia documentacion de la API puede consultarse [en este enlace](https://github.com/damonkohler/sl4a/blob/wiki/ApiReference.md#getLaunchableApplications.md) y [en este enlace](https://kylelk.github.io/html-examples/androidhelper.html). \n",
        "\n",
        "A continuacion vamos a revisar algunos ejemplos sencillos."
      ]
    },
    {
      "metadata": {
        "id": "qmHdG2Eh6yWn",
        "colab_type": "code",
        "colab": {
          "base_uri": "https://localhost:8080/",
          "height": 35
        },
        "outputId": "db1402c5-e699-4a7a-f920-7574f8ee3856"
      },
      "cell_type": "code",
      "source": [
        "# crear una notificacion\n",
        "# una vez ejecutado revisar notificaciones en el dispositvo\n",
        "droide.notify(\"RySI\", \"Hola esta es una notificacion\")"
      ],
      "execution_count": 26,
      "outputs": [
        {
          "output_type": "execute_result",
          "data": {
            "text/plain": [
              "Result(id=6, result=None, error=None)"
            ]
          },
          "metadata": {
            "tags": []
          },
          "execution_count": 26
        }
      ]
    },
    {
      "metadata": {
        "id": "A__T0oey68DX",
        "colab_type": "code",
        "colab": {
          "base_uri": "https://localhost:8080/",
          "height": 35
        },
        "outputId": "7f8548f2-2772-4da2-c512-3863cce72a7b"
      },
      "cell_type": "code",
      "source": [
        "# vibra dispositivo por 2.5 segundos\n",
        "droide.vibrate(2500)"
      ],
      "execution_count": 27,
      "outputs": [
        {
          "output_type": "execute_result",
          "data": {
            "text/plain": [
              "Result(id=7, result=None, error=None)"
            ]
          },
          "metadata": {
            "tags": []
          },
          "execution_count": 27
        }
      ]
    },
    {
      "metadata": {
        "id": "LWP79HKO7IU3",
        "colab_type": "code",
        "colab": {
          "base_uri": "https://localhost:8080/",
          "height": 35
        },
        "outputId": "c673be1d-b574-411e-f956-2f4dfa46039b"
      },
      "cell_type": "code",
      "source": [
        "# texto a voz\n",
        "droide.ttsSpeak(\"Este es un texto leido en voz alta\")"
      ],
      "execution_count": 28,
      "outputs": [
        {
          "output_type": "execute_result",
          "data": {
            "text/plain": [
              "Result(id=8, result=None, error=None)"
            ]
          },
          "metadata": {
            "tags": []
          },
          "execution_count": 28
        }
      ]
    },
    {
      "metadata": {
        "id": "5NHVtBCC7O7I",
        "colab_type": "text"
      },
      "cell_type": "markdown",
      "source": [
        "# Fin de sesion."
      ]
    }
  ]
}
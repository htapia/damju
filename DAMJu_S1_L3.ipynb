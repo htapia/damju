{
  "nbformat": 4,
  "nbformat_minor": 0,
  "metadata": {
    "colab": {
      "name": "DAMJu_S1_L3.ipynb",
      "version": "0.3.2",
      "provenance": [],
      "include_colab_link": true
    },
    "kernelspec": {
      "name": "python2",
      "display_name": "Python 2"
    }
  },
  "cells": [
    {
      "cell_type": "markdown",
      "metadata": {
        "id": "view-in-github",
        "colab_type": "text"
      },
      "source": [
        "<a href=\"https://colab.research.google.com/github/htapia/damju/blob/master/DAMJu_S1_L3.ipynb\" target=\"_parent\"><img src=\"https://colab.research.google.com/assets/colab-badge.svg\" alt=\"Open In Colab\"/></a>"
      ]
    },
    {
      "metadata": {
        "id": "_cI-FL1Ep0F4",
        "colab_type": "text"
      },
      "cell_type": "markdown",
      "source": [
        "# Semana 1 Libreta 3"
      ]
    },
    {
      "metadata": {
        "id": "Se_8PSQ_p7TH",
        "colab_type": "text"
      },
      "cell_type": "markdown",
      "source": [
        "## Configuracion en dispositivo movil\n",
        "\n",
        "La configuracion para el dispositivo movil se divide en tres pasos \n",
        "*   a) instalar un sistema para ejecutar lenguajes interpretados (SL4A)\n",
        "*   b) instalar el interprete de Python (Py4A)\n",
        "*   c) configurar el servicio de Python\n",
        "\n",
        ">Es preferible contar con un dispositivo que soporte una versión del sistema operativo Android igual  o mayor a la versión 4; hemos tenido dificultades con versiones del sistema operativo menores a la 4.\n",
        "\n"
      ]
    },
    {
      "metadata": {
        "id": "AcPoXLYxrAW9",
        "colab_type": "text"
      },
      "cell_type": "markdown",
      "source": [
        "### a) Instalacion de SL4A (Scripting Layer 4 Android)\n",
        "\n",
        "El siguiente video muestra como instalar y configurar SL4A en su dispositivo movil. El codigo puede descargarse en su dispositivo de la siguiente imagen.\n",
        "![sl4a](https://camo.githubusercontent.com/21fbbe68d6a27b2996257483e23a2689cd172e14/687474703a2f2f63686172742e617069732e676f6f676c652e636f6d2f63686172743f6368743d7172266368733d323030783230302663686c3d687474703a2f2f6769746875622e636f6d2f6b75726936353533362f736c34612f72656c65617365732f646f776e6c6f61642f362e312e312f736c34612d72362e312e312d61726d2d64656275672e61706b266e6f6e73656e73653d736f6d657468696e675f746861745f656e64735f776974682e706e67)\n",
        "\n"
      ]
    },
    {
      "metadata": {
        "id": "1Qhu2kKurnig",
        "colab_type": "code",
        "colab": {
          "base_uri": "https://localhost:8080/",
          "height": 336
        },
        "outputId": "990c0429-7ef9-4b92-fffc-9e478843804e"
      },
      "cell_type": "code",
      "source": [
        "%%HTML\n",
        "<iframe width=\"560\" height=\"315\" src=\"https://www.youtube.com/embed/rxAi00PGnmU\" frameborder=\"0\" \n",
        "allow=\"accelerometer; autoplay; encrypted-media; gyroscope; picture-in-picture\" allowfullscreen></iframe>"
      ],
      "execution_count": 1,
      "outputs": [
        {
          "output_type": "display_data",
          "data": {
            "text/plain": [
              "<IPython.core.display.HTML object>"
            ],
            "text/html": [
              "<iframe width=\"560\" height=\"315\" src=\"https://www.youtube.com/embed/rxAi00PGnmU\" frameborder=\"0\" \n",
              "allow=\"accelerometer; autoplay; encrypted-media; gyroscope; picture-in-picture\" allowfullscreen></iframe>"
            ]
          },
          "metadata": {
            "tags": []
          }
        }
      ]
    },
    {
      "metadata": {
        "id": "-pXatkz8rt-3",
        "colab_type": "text"
      },
      "cell_type": "markdown",
      "source": [
        "### b) Instalacion de Python\n",
        "\n",
        "El siguiente video muestra como descargar e instalar Python en su dispositivo movil. El codigo puede descargarse en su dispositivo de la siguiente imagen.\n",
        "\n",
        "![py4a](https://github.com/htapia/damju/blob/master/py4a.png?raw=true)"
      ]
    },
    {
      "metadata": {
        "id": "_77BwTvBr1Hp",
        "colab_type": "code",
        "colab": {
          "base_uri": "https://localhost:8080/",
          "height": 336
        },
        "outputId": "5f1c3b9a-1ee6-4300-a5b5-d746aba5b92d"
      },
      "cell_type": "code",
      "source": [
        "%%HTML\n",
        "<iframe width=\"560\" height=\"315\" src=\"https://www.youtube.com/embed/IaaYpift3l8\" frameborder=\"0\" \n",
        "allow=\"accelerometer; autoplay; encrypted-media; gyroscope; picture-in-picture\" allowfullscreen></iframe>"
      ],
      "execution_count": 2,
      "outputs": [
        {
          "output_type": "display_data",
          "data": {
            "text/plain": [
              "<IPython.core.display.HTML object>"
            ],
            "text/html": [
              "<iframe width=\"560\" height=\"315\" src=\"https://www.youtube.com/embed/IaaYpift3l8\" frameborder=\"0\" \n",
              "allow=\"accelerometer; autoplay; encrypted-media; gyroscope; picture-in-picture\" allowfullscreen></iframe>"
            ]
          },
          "metadata": {
            "tags": []
          }
        }
      ]
    },
    {
      "metadata": {
        "id": "fTzrZdPKr_rP",
        "colab_type": "text"
      },
      "cell_type": "markdown",
      "source": [
        "### c) Configurar el servicio\n",
        "El siguiente video muestra como configurar el servicio de Python en el dispositivo movil."
      ]
    },
    {
      "metadata": {
        "id": "OvRdMGTWsEW0",
        "colab_type": "code",
        "colab": {
          "base_uri": "https://localhost:8080/",
          "height": 336
        },
        "outputId": "7ee82b9e-7d83-4f1f-cdd6-e976fcb56281"
      },
      "cell_type": "code",
      "source": [
        "%%HTML\n",
        "<iframe width=\"560\" height=\"315\" src=\"https://www.youtube.com/embed/xUvA5CxU0dc\" frameborder=\"0\" \n",
        "allow=\"accelerometer; autoplay; encrypted-media; gyroscope; picture-in-picture\" allowfullscreen></iframe>"
      ],
      "execution_count": 4,
      "outputs": [
        {
          "output_type": "display_data",
          "data": {
            "text/plain": [
              "<IPython.core.display.HTML object>"
            ],
            "text/html": [
              "<iframe width=\"560\" height=\"315\" src=\"https://www.youtube.com/embed/xUvA5CxU0dc\" frameborder=\"0\" \n",
              "allow=\"accelerometer; autoplay; encrypted-media; gyroscope; picture-in-picture\" allowfullscreen></iframe>"
            ]
          },
          "metadata": {
            "tags": []
          }
        }
      ]
    },
    {
      "metadata": {
        "id": "OBOcCMC9thBC",
        "colab_type": "code",
        "colab": {}
      },
      "cell_type": "code",
      "source": [
        ""
      ],
      "execution_count": 0,
      "outputs": []
    }
  ]
}
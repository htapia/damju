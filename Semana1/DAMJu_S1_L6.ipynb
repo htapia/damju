{
 "cells": [
  {
   "cell_type": "markdown",
   "metadata": {
    "colab_type": "text",
    "id": "view-in-github"
   },
   "source": [
    "<a href=\"https://colab.research.google.com/github/htapia/damju/blob/master/DAMJu_S1_L6.ipynb\" target=\"_parent\"><img src=\"https://colab.research.google.com/assets/colab-badge.svg\" alt=\"Open In Colab\"/></a>"
   ]
  },
  {
   "cell_type": "markdown",
   "metadata": {
    "colab_type": "text",
    "id": "I3lW6wMB4AHI"
   },
   "source": [
    "# Semana 1 Libreta 6\n"
   ]
  },
  {
   "cell_type": "markdown",
   "metadata": {
    "colab_type": "text",
    "id": "NCxNsILn4IVY"
   },
   "source": [
    "## Ecosistema de Jupyter en la nube\n",
    "\n",
    "Es posible utilizar un ambiente basado en la nube y asi evitar la complejidad de gestionar paquetes o instalaciones en su sistema local. Sin embargo para poder interactuar con el dispositivo movil sigue siendo necesaria la instalacion local usando Anaconda.\n",
    "\n",
    "Sin embargo, algunos ambientes de desarrollo estan configurados y listos para usarse en la nube de Google a traves de [Google Collaborative](https://colab.research.google.com/notebooks/welcome.ipynb), por lo que \n",
    "\n",
    "De hecho, una gran parte de estas libretas estan preparadas en la nube de Google. Tal vez notaron la imagen\n",
    "\n",
    ">![colab](https://colab.research.google.com/assets/colab-badge.svg) \n",
    "\n",
    "en la parte superior de las libretas cuando las vieron en el [repositorio](https://github.com/htapia/damju/); significa que 1) fueron preparadas y 2) pueden accederse  en la nube.\n",
    "\n",
    "Una enorme ventaja de usar la infraestructura de la nube es que toda la configuracion ocurre de manera automatica, y se tiene acceso a todas las librerias neceasrias para desarrolalr apllicacioens tecnologicas actuales, tales como Aprendizaje de Maquina, Ciencias de Datos, etc., sin la particularidad de tener que contar con el hardware o el software. Por ejemplo Google permite ejecutar libretas utilizando procesadores graficos GPU, algo que significa un arduo trabajo para hacer localmente (comenzando por la necesidad de contar con un GPU en su sistema loca y configurarlo).\n",
    "\n",
    "Haremos uso parcial de las libretas en Google, desafortunadamente no son persistentes, es decir, el entorno de ejecucion deja de estar activo despues de 24 horas, por lo que cualquier configuracion/evaluacion etc. que se realiza en la nube se pierde si no se tiene esto en consideracion.\n",
    "\n",
    "><strong>Pro Tip</strong>\n",
    ">\n",
    ">Collaborative permite conectar a un entorno de ejecución de Jupyter en un ordenador local. Puedes consultar más información en la [documentación](https://research.google.com/colaboratory/local-runtimes.html) para los detalles. Una vez hecha la configuracion, copiar y pegar el siguiente comando en la consola para iniciar el servidor local y permitir conexiones con la nube a traves de un websocket por el servidor de colab:<br><br>\n",
    ">`jupyter notebook --NotebookApp.allow_origin='https://colab.research.google.com'  --port=8888 --NotebookApp.port_retries=0 --no-browser`<br><br>\n",
    ">**Nota:** si queremos utilizar la plataforma de Jupyter en la nube e interactuar con nuestro sistema local debemos iniciar el sistema Jupyter con el comando anterior, de otro modo el entorno de evaluacion es en la nube.\n"
   ]
  }
 ],
 "metadata": {
  "colab": {
   "include_colab_link": true,
   "name": "DAMJu_S1_L6.ipynb",
   "provenance": [],
   "version": "0.3.2"
  },
  "kernelspec": {
   "display_name": "Python 2",
   "language": "python",
   "name": "python2"
  },
  "language_info": {
   "codemirror_mode": {
    "name": "ipython",
    "version": 2
   },
   "file_extension": ".py",
   "mimetype": "text/x-python",
   "name": "python",
   "nbconvert_exporter": "python",
   "pygments_lexer": "ipython2",
   "version": "2.7.15"
  }
 },
 "nbformat": 4,
 "nbformat_minor": 1
}

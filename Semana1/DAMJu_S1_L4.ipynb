{
  "nbformat": 4,
  "nbformat_minor": 0,
  "metadata": {
    "colab": {
      "name": "DAMJu_S1_L4.ipynb",
      "version": "0.3.2",
      "provenance": [],
      "include_colab_link": true
    },
    "kernelspec": {
      "name": "python2",
      "display_name": "Python 2"
    }
  },
  "cells": [
    {
      "cell_type": "markdown",
      "metadata": {
        "id": "view-in-github",
        "colab_type": "text"
      },
      "source": [
        "<a href=\"https://colab.research.google.com/github/htapia/damju/blob/master/DAMJu_S1_L4.ipynb\" target=\"_parent\"><img src=\"https://colab.research.google.com/assets/colab-badge.svg\" alt=\"Open In Colab\"/></a>"
      ]
    },
    {
      "metadata": {
        "id": "MbHqcWxGt9pk",
        "colab_type": "text"
      },
      "cell_type": "markdown",
      "source": [
        "# Semana 1 Libreta 4"
      ]
    },
    {
      "metadata": {
        "id": "Q7EuFJnZuBPS",
        "colab_type": "text"
      },
      "cell_type": "markdown",
      "source": [
        "## Estableciendo comunicacion en el dispositivo movil y el sistema local\n",
        "\n",
        ">**Pro tip**\n",
        ">\n",
        ">Esta libreta puede evaluarse en la nube o con su instalacion local de Jupyter. En el primer caso es necesario asegurarse que la configuracion descrita en la libreta este completa y funcionando.\n",
        "\n",
        "Desde la consola (Anaconda prompt en windows o consola normal en otros sistemas) ejecutar el siguiente comando:\n",
        "\n",
        "    jupyter notebook\n",
        "          \n",
        "El sistema carga algunas configuracion y debe abrir una pagina en su navegador preestablecido apuntando a [http://localhost:8888](http://localhost:8888). Debajo pueden ver un video mostrando estos pasos en windows."
      ]
    },
    {
      "metadata": {
        "id": "qAZywRa3vb_-",
        "colab_type": "code",
        "colab": {}
      },
      "cell_type": "code",
      "source": [
        "%%HTML\n",
        "<iframe width=\"560\" height=\"315\" src=\"https://www.youtube.com/embed/lMeFay7VcgM\" frameborder=\"0\" \n",
        "allow=\"accelerometer; autoplay; encrypted-media; gyroscope; picture-in-picture\" allowfullscreen></iframe>\n"
      ],
      "execution_count": 0,
      "outputs": []
    },
    {
      "metadata": {
        "id": "QDo4eOcowzyC",
        "colab_type": "text"
      },
      "cell_type": "markdown",
      "source": [
        "### Revision de sistema\n",
        "\n",
        "Una vez que tienen una libreta de python ejecutandose, reproduzcan el siguiente condigo en su sistema local. Esto permitira conocer el estado de su sistema local."
      ]
    },
    {
      "metadata": {
        "id": "9G9AJEcOvHLs",
        "colab_type": "code",
        "colab": {
          "base_uri": "https://localhost:8080/",
          "height": 34
        },
        "outputId": "9577a734-84a4-4c65-cf40-8dfbdb0030a5"
      },
      "cell_type": "code",
      "source": [
        "# hola mundo\n",
        "print(\"Hola clase de la RySi\")"
      ],
      "execution_count": 1,
      "outputs": [
        {
          "output_type": "stream",
          "text": [
            "Hola clase de la RySi\n"
          ],
          "name": "stdout"
        }
      ]
    },
    {
      "metadata": {
        "id": "make-aP6xIDN",
        "colab_type": "code",
        "colab": {
          "base_uri": "https://localhost:8080/",
          "height": 102
        },
        "outputId": "d38669ad-2b6c-42d1-baa6-ee8324f8e0f1"
      },
      "cell_type": "code",
      "source": [
        "import sys\n",
        "print(\"Estoy usando el sistema operativo \" + sys.platform)\n",
        "\n",
        "import numpy as np\n",
        "print(\"La version de `numpy` es %s\" % np.__version__)\n",
        "print(\"El valor aproximado de Pi es %f\" %np.pi)\n",
        "\n",
        "import pandas as pd\n",
        "print(\"La version de `pandas` es %s\" %pd.__version__)\n",
        "\n",
        "import matplotlib as mplt\n",
        "print(\"La version de `matplotlib` es %s\" %mplt.__version__)"
      ],
      "execution_count": 12,
      "outputs": [
        {
          "output_type": "stream",
          "text": [
            "Estoy usando el sistema operativo linux2\n",
            "La version de `numpy` es 1.14.6\n",
            "El valor aproximado de Pi es 3.141593\n",
            "La version de `pandas` es 0.22.0\n",
            "La version de `matplotlib` es 2.2.3\n"
          ],
          "name": "stdout"
        }
      ]
    },
    {
      "metadata": {
        "id": "tK5a3l3myrIj",
        "colab_type": "text"
      },
      "cell_type": "markdown",
      "source": [
        "### Estableciendo conexion con el dispositivo movil\n",
        "\n",
        "Ahora vamos a conectar nuestro dispositivo con el sistema local. Para esto es necesario contar con la configuracion completa que se ha descrito en las libretas anteriores. Particularmente es necesario \n",
        "\n",
        "* contar con `adb` instalado en su sistema local y\n",
        "* tener configurada la variable de entorno AP_PORT con valor 9999 [Video](https://youtu.be/c5Ir8ywvFsw)\n",
        "* contar con el servicio de Python ejecutandose en el dispositivo [Video](https://youtu.be/xUvA5CxU0dc)\n",
        "\n",
        "El siguiente video muestra como establecer la conexion entre el sistema local y el dispositivo movil ejecutando el servicio de Python."
      ]
    },
    {
      "metadata": {
        "id": "4VN_Ht0_ztfM",
        "colab_type": "code",
        "colab": {}
      },
      "cell_type": "code",
      "source": [
        "%%HTML\n",
        "<iframe width=\"560\" height=\"315\" src=\"https://www.youtube.com/embed/lMeFay7VcgM\" frameborder=\"0\" \n",
        "allow=\"accelerometer; autoplay; encrypted-media; gyroscope; picture-in-picture\" allowfullscreen></iframe>"
      ],
      "execution_count": 0,
      "outputs": []
    }
  ]
}
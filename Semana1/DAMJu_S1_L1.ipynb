{
  "nbformat": 4,
  "nbformat_minor": 0,
  "metadata": {
    "colab": {
      "name": "DAMJu_S1_L1.ipynb",
      "version": "0.3.2",
      "provenance": [],
      "include_colab_link": true
    },
    "kernelspec": {
      "name": "python2",
      "display_name": "Python 2"
    }
  },
  "cells": [
    {
      "cell_type": "markdown",
      "metadata": {
        "id": "view-in-github",
        "colab_type": "text"
      },
      "source": [
        "<a href=\"https://colab.research.google.com/github/htapia/damju/blob/master/Semana1/DAMJu_S1_L1.ipynb\" target=\"_parent\"><img src=\"https://colab.research.google.com/assets/colab-badge.svg\" alt=\"Open In Colab\"/></a>"
      ]
    },
    {
      "metadata": {
        "id": "Ljeymx0djw7e",
        "colab_type": "text"
      },
      "cell_type": "markdown",
      "source": [
        "# Semana 1 Libreta 1"
      ]
    },
    {
      "metadata": {
        "id": "H5UALHJGXavZ",
        "colab_type": "text"
      },
      "cell_type": "markdown",
      "source": [
        "## Instalacion local de Jupyter via Anaconda\n",
        "\n",
        "><strong>Pro Tip</strong>\n",
        ">\n",
        ">Sugerimos de forma muy específica utilizar la distribución de Anaconda adecuada para su sistema operativo, la cual está disponible en el enlace siguiente: [https://www.anaconda.com/download/](https://www.anaconda.com/download/) y elegir el instalable correspondiente a **Python 2.7**. Configurar el ambiente de programación por este medio facilita y acelera el desarrollo además de evitar posibles conflictos con posibles instalaciones de Python ya existentes en el sistema operativo local.\n",
        ">\n",
        ">>Debido al poco tiempo disponible para el curso, no se proporcionará soporte a instalaciones o configuraciones del ambiente Python fuera de la distribución de Ananconda.\n",
        "\n",
        "El siguiente video muestra como instalar y configurar Python a traves de Anaconda en el sistema operativo windows. Un proceso muy parecido se lleva a cabo en otros sistemas operativos.\n",
        "\n"
      ]
    },
    {
      "metadata": {
        "id": "FWfSWPcLX9ct",
        "colab_type": "code",
        "outputId": "c86abe01-a59d-45e2-dfc5-88a0e7b4318a",
        "colab": {
          "base_uri": "https://localhost:8080/",
          "height": 336
        }
      },
      "cell_type": "code",
      "source": [
        "#@title ##Instalacion y configuracion local de Python con Anaconda {display-mode: \"form\"}\n",
        "%%HTML\n",
        "<iframe width=\"560\" height=\"315\" src=\"https://www.youtube.com/embed/lMeFay7VcgM\" frameborder=\"0\" \n",
        "allow=\"accelerometer; autoplay; encrypted-media; gyroscope; picture-in-picture\" allowfullscreen></iframe>\n"
      ],
      "execution_count": 3,
      "outputs": [
        {
          "output_type": "display_data",
          "data": {
            "text/plain": [
              "<IPython.core.display.HTML object>"
            ],
            "text/html": [
              "<iframe width=\"560\" height=\"315\" src=\"https://www.youtube.com/embed/lMeFay7VcgM\" frameborder=\"0\" \n",
              "allow=\"accelerometer; autoplay; encrypted-media; gyroscope; picture-in-picture\" allowfullscreen></iframe>"
            ]
          },
          "metadata": {
            "tags": []
          }
        }
      ]
    },
    {
      "metadata": {
        "id": "6K-rVwt4q-Z5",
        "colab_type": "code",
        "colab": {}
      },
      "cell_type": "code",
      "source": [
        "#@title ## Retroalimentacion {display-mode: \"form\"}\n",
        "#@markdown Favor de responder al siguiente cuestionario.\n",
        "\n",
        "#@markdown ---\n",
        "#@markdown ### Fui capaz de repetir el proceso a partir del video:\n",
        "video_S1_L1 = True #@param {type:\"boolean\"}\n",
        "#@markdown ### Tengo instalado Python por medio de Anaconda en mi computadora:\n",
        "retro_S1_L1 = True #@param {type:\"boolean\"}"
      ],
      "execution_count": 0,
      "outputs": []
    },
    {
      "metadata": {
        "id": "Yz1CEEDb6Fbj",
        "colab_type": "code",
        "colab": {
          "base_uri": "https://localhost:8080/",
          "height": 129
        },
        "outputId": "a5351ccf-d036-4f62-9831-1f65ce296755"
      },
      "cell_type": "code",
      "source": [
        "#@title ## Evaluacion {display-mode: \"form\"}\n",
        "if not video_S1_L1: \n",
        "  #@markdown  &#10071; para la produccion\n",
        "else:\n",
        "  #@markdown &#10024; para la produccion\n",
        "  \n",
        "# evaluate\n",
        "\n",
        "if retro_S1_L1:\n",
        "  #@markdown &#10024; Comprueba  tu instalacion abriendo este documento en tu sistema.\n",
        "else:\n",
        "  print(\"Si tienes problemas instalando Python por medio de Anaconda \\n \\\n",
        "        te sugiero ver nuevamente el video. \\n\\n \\\n",
        "        Si continuas teniendo problemas revisa el foro de curso.\")  "
      ],
      "execution_count": 21,
      "outputs": [
        {
          "output_type": "error",
          "ename": "IndentationError",
          "evalue": "ignored",
          "traceback": [
            "\u001b[0;36m  File \u001b[0;32m\"<ipython-input-21-42c6b67a7bbb>\"\u001b[0;36m, line \u001b[0;32m3\u001b[0m\n\u001b[0;31m    else:\u001b[0m\n\u001b[0m       ^\u001b[0m\n\u001b[0;31mIndentationError\u001b[0m\u001b[0;31m:\u001b[0m expected an indented block\n"
          ]
        }
      ]
    },
    {
      "metadata": {
        "id": "Duvxnwea90k_",
        "colab_type": "code",
        "colab": {
          "base_uri": "https://localhost:8080/",
          "height": 34
        },
        "outputId": "d64d42ef-d692-4c04-e689-e6b24a1a8d2b"
      },
      "cell_type": "code",
      "source": [
        "retro_S1_L1"
      ],
      "execution_count": 19,
      "outputs": [
        {
          "output_type": "execute_result",
          "data": {
            "text/plain": [
              "False"
            ]
          },
          "metadata": {
            "tags": []
          },
          "execution_count": 19
        }
      ]
    },
    {
      "metadata": {
        "id": "xUr6Ps6_8McE",
        "colab_type": "text"
      },
      "cell_type": "markdown",
      "source": [
        "<p>&#128515;</p>"
      ]
    }
  ]
}
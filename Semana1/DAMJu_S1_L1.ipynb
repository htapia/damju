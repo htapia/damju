{
  "nbformat": 4,
  "nbformat_minor": 0,
  "metadata": {
    "colab": {
      "name": "DAMJu_S1_L1.ipynb",
      "version": "0.3.2",
      "provenance": [],
      "include_colab_link": true
    },
    "kernelspec": {
      "name": "python2",
      "display_name": "Python 2"
    }
  },
  "cells": [
    {
      "cell_type": "markdown",
      "metadata": {
        "id": "view-in-github",
        "colab_type": "text"
      },
      "source": [
        "<a href=\"https://colab.research.google.com/github/htapia/damju/blob/master/Semana1/DAMJu_S1_L1.ipynb\" target=\"_parent\"><img src=\"https://colab.research.google.com/assets/colab-badge.svg\" alt=\"Open In Colab\"/></a>"
      ]
    },
    {
      "metadata": {
        "id": "Ljeymx0djw7e",
        "colab_type": "text"
      },
      "cell_type": "markdown",
      "source": [
        "# Semana 1 Libreta 1"
      ]
    },
    {
      "metadata": {
        "id": "H5UALHJGXavZ",
        "colab_type": "text"
      },
      "cell_type": "markdown",
      "source": [
        "## Instalacion local de Jupyter via Anaconda\n",
        "\n",
        "><strong>Pro Tip</strong>\n",
        ">\n",
        ">Sugerimos de forma muy específica utilizar la distribución de Anaconda adecuada para su sistema operativo, la cual está disponible en el enlace siguiente: [https://www.anaconda.com/download/](https://www.anaconda.com/download/) y elegir el instalable correspondiente a **Python 2.7**. Configurar el ambiente de programación por este medio facilita y acelera el desarrollo además de evitar posibles conflictos con posibles instalaciones de Python ya existentes en el sistema operativo local.\n",
        ">\n",
        ">>Debido al poco tiempo disponible para el curso, no se proporcionará soporte a instalaciones o configuraciones del ambiente Python fuera de la distribución de Ananconda.\n",
        "\n",
        "El siguiente video muestra como instalar y configurar Python a traves de Anaconda en el sistema operativo windows. Un proceso muy parecido se lleva a cabo en otros sistemas operativos.\n",
        "\n"
      ]
    },
    {
      "metadata": {
        "id": "FWfSWPcLX9ct",
        "colab_type": "code",
        "outputId": "49cbbfbd-ad1a-440a-b143-61eabdfc656b",
        "colab": {
          "base_uri": "https://localhost:8080/",
          "height": 321
        }
      },
      "cell_type": "code",
      "source": [
        "#@title ##Instalacion y configuracion local de Python con Anaconda {display-mode: \"form\"}\n",
        "from IPython.display import YouTubeVideo\n",
        "YouTubeVideo('lMeFay7VcgM')"
      ],
      "execution_count": 0,
      "outputs": [
        {
          "output_type": "execute_result",
          "data": {
            "text/html": [
              "\n",
              "        <iframe\n",
              "            width=\"400\"\n",
              "            height=\"300\"\n",
              "            src=\"https://www.youtube.com/embed/lMeFay7VcgM\"\n",
              "            frameborder=\"0\"\n",
              "            allowfullscreen\n",
              "        ></iframe>\n",
              "        "
            ],
            "text/plain": [
              "<IPython.lib.display.YouTubeVideo at 0x7fb80f7f2c50>"
            ]
          },
          "metadata": {
            "tags": []
          },
          "execution_count": 29
        }
      ]
    },
    {
      "metadata": {
        "id": "6K-rVwt4q-Z5",
        "colab_type": "code",
        "colab": {
          "base_uri": "https://localhost:8080/",
          "height": 51
        },
        "outputId": "339211de-7514-4a71-d043-c23214e55ff7"
      },
      "cell_type": "code",
      "source": [
        "#@title # Retroalimentacion {display-mode: \"form\"}\n",
        "#@markdown ### Favor de responder al siguiente cuestionario.\n",
        "#@markdown ---\n",
        "#@markdown ### Despues de ver el video:\n",
        "#@markdown ### Fui capaz de repetir el proceso a partir del video:\n",
        "video_S1_L1 = False #@param {type:\"boolean\"}\n",
        "#@markdown ### Tengo instalado Python por medio de Anaconda en mi computadora:\n",
        "retro_S1_L1 = False #@param {type:\"boolean\"}\n",
        "#@markdown ---\n",
        "\n",
        "print(video_S1_L1)\n",
        "print(retro_S1_L1)"
      ],
      "execution_count": 5,
      "outputs": [
        {
          "output_type": "stream",
          "text": [
            "False\n",
            "False\n"
          ],
          "name": "stdout"
        }
      ]
    },
    {
      "metadata": {
        "id": "0D-MoHrTAic4",
        "colab_type": "code",
        "colab": {}
      },
      "cell_type": "code",
      "source": [
        ""
      ],
      "execution_count": 0,
      "outputs": []
    },
    {
      "metadata": {
        "id": "d8iLU7wIAIFu",
        "colab_type": "code",
        "colab": {
          "base_uri": "https://localhost:8080/",
          "height": 34
        },
        "outputId": "48becb47-843d-4670-a919-a8cf9c5b20f1"
      },
      "cell_type": "code",
      "source": [
        "video_S1_L1"
      ],
      "execution_count": 4,
      "outputs": [
        {
          "output_type": "execute_result",
          "data": {
            "text/plain": [
              "{}"
            ]
          },
          "metadata": {
            "tags": []
          },
          "execution_count": 4
        }
      ]
    },
    {
      "metadata": {
        "id": "IbbWJE8qAJ_y",
        "colab_type": "code",
        "colab": {}
      },
      "cell_type": "code",
      "source": [
        ""
      ],
      "execution_count": 0,
      "outputs": []
    }
  ]
}
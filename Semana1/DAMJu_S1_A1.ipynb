{
  "nbformat": 4,
  "nbformat_minor": 0,
  "metadata": {
    "colab": {
      "name": "DAMJu_S1_L5.ipynb",
      "version": "0.3.2",
      "provenance": [],
      "include_colab_link": true
    },
    "kernelspec": {
      "display_name": "Python 2",
      "language": "python",
      "name": "python2"
    }
  },
  "cells": [
    {
      "cell_type": "markdown",
      "metadata": {
        "id": "view-in-github",
        "colab_type": "text"
      },
      "source": [
        "<a href=\"https://colab.research.google.com/github/htapia/damju/blob/master/Semana1/DAMJu_S1_A1.ipynb\" target=\"_parent\"><img src=\"https://colab.research.google.com/assets/colab-badge.svg\" alt=\"Open In Colab\"/></a>"
      ]
    },
    {
      "metadata": {
        "id": "atSA0fLMwzqR",
        "colab_type": "text"
      },
      "cell_type": "markdown",
      "source": [
        "# Semana 1 Actividad 1"
      ]
    },
    {
      "metadata": {
        "id": "JresAzYLwzqW",
        "colab_type": "text"
      },
      "cell_type": "markdown",
      "source": [
        "## Descarga modulo `android.py`\n",
        "\n",
        "El modulo `android.py` se necesita para que Python puede acceder a la API de Android. Este debe importartse al espacio del interprete en cada sesion (no es necesario hacerlo en cada libreta, pero si en cada sesion determinada por el servidor `jupyter notebook` iniciado desde la consola)."
      ]
    },
    {
      "metadata": {
        "id": "fs4Eejluwzqb",
        "colab_type": "text"
      },
      "cell_type": "markdown",
      "source": [
        "En esta libreta se describen las instrucciones para descargar e instalar el modulo en su sistema local. Para que el este disponible en cualquier sesion sera necesario instalarlo en un folder al que Python siempre tenga acceso. El lugar mas conveniente en en la ruta de acceso de Python en su folder local. Este pueden encontrarlo de la siguiente manera."
      ]
    },
    {
      "metadata": {
        "id": "4oPTZrDHwzqe",
        "colab_type": "text"
      },
      "cell_type": "markdown",
      "source": [
        "Pueden ver el video de esta libreta antes de ejecutarla en su sistema."
      ]
    },
    {
      "metadata": {
        "id": "FdrZmrMJwzqi",
        "colab_type": "code",
        "colab": {},
        "outputId": "2c17c34b-3e32-4340-bc4e-6433d823e30e"
      },
      "cell_type": "code",
      "source": [
        "%%HTML\n",
        "<iframe width=\"560\" height=\"315\" src=\"https://www.youtube.com/embed/-05-ny7FC38\" frameborder=\"0\" \n",
        "allow=\"accelerometer; autoplay; encrypted-media; gyroscope; picture-in-picture\" allowfullscreen></iframe>"
      ],
      "execution_count": 0,
      "outputs": [
        {
          "output_type": "display_data",
          "data": {
            "text/html": [
              "<iframe width=\"560\" height=\"315\" src=\"https://www.youtube.com/embed/-05-ny7FC38\" frameborder=\"0\" \n",
              "allow=\"accelerometer; autoplay; encrypted-media; gyroscope; picture-in-picture\" allowfullscreen></iframe>"
            ],
            "text/plain": [
              "<IPython.core.display.HTML object>"
            ]
          },
          "metadata": {
            "tags": []
          }
        }
      ]
    },
    {
      "metadata": {
        "id": "DYN706_EwzsB",
        "colab_type": "text"
      },
      "cell_type": "markdown",
      "source": [
        "# Vamos a descargar el modulo necesario para establecer comunicacion entre los dos sistemas"
      ]
    },
    {
      "metadata": {
        "id": "ifd_VcsQwzsC",
        "colab_type": "text"
      },
      "cell_type": "markdown",
      "source": [
        "# Primero necesitamos determinar el directorio donde lo vamos a copiar de modo que el sistema tenga acceso al modulo"
      ]
    },
    {
      "metadata": {
        "id": "l4nDF6VmwzsD",
        "colab_type": "code",
        "colab": {},
        "outputId": "01bdea8a-07d0-459a-9e1a-cbed1c9beec2"
      },
      "cell_type": "code",
      "source": [
        "# sys.path contiene la ruta de Python configurada en el sistema\n",
        "# el ultimo elemento de la lista es su folder de usuario donde pueden copiar el archivo del modulo\n",
        "import sys\n",
        "sys.path"
      ],
      "execution_count": 0,
      "outputs": [
        {
          "output_type": "execute_result",
          "data": {
            "text/plain": [
              "['',\n",
              " 'C:\\\\Users\\\\HoracioTapiaMcClung\\\\Anaconda2\\\\python27.zip',\n",
              " 'C:\\\\Users\\\\HoracioTapiaMcClung\\\\Anaconda2\\\\DLLs',\n",
              " 'C:\\\\Users\\\\HoracioTapiaMcClung\\\\Anaconda2\\\\lib',\n",
              " 'C:\\\\Users\\\\HoracioTapiaMcClung\\\\Anaconda2\\\\lib\\\\plat-win',\n",
              " 'C:\\\\Users\\\\HoracioTapiaMcClung\\\\Anaconda2\\\\lib\\\\lib-tk',\n",
              " 'C:\\\\Users\\\\HoracioTapiaMcClung\\\\Anaconda2',\n",
              " 'C:\\\\Users\\\\HoracioTapiaMcClung\\\\Anaconda2\\\\lib\\\\site-packages',\n",
              " 'C:\\\\Users\\\\HoracioTapiaMcClung\\\\Anaconda2\\\\lib\\\\site-packages\\\\win32',\n",
              " 'C:\\\\Users\\\\HoracioTapiaMcClung\\\\Anaconda2\\\\lib\\\\site-packages\\\\win32\\\\lib',\n",
              " 'C:\\\\Users\\\\HoracioTapiaMcClung\\\\Anaconda2\\\\lib\\\\site-packages\\\\Pythonwin',\n",
              " 'C:\\\\Users\\\\HoracioTapiaMcClung\\\\Anaconda2\\\\lib\\\\site-packages\\\\IPython\\\\extensions',\n",
              " 'C:\\\\Users\\\\HoracioTapiaMcClung\\\\.ipython']"
            ]
          },
          "metadata": {
            "tags": []
          },
          "execution_count": 27
        }
      ]
    },
    {
      "metadata": {
        "id": "NFNT88mwwzsK",
        "colab_type": "code",
        "colab": {},
        "outputId": "437aab1e-8306-4df3-b3f7-c6b26cccfb8a"
      },
      "cell_type": "code",
      "source": [
        "# copiar el texto del ultimo directorio listado precedido por el comando %cd\n",
        "# para cambiar de directorio \n",
        "%cd C:\\Users\\HoracioTapiaMcClung\\.ipython"
      ],
      "execution_count": 0,
      "outputs": [
        {
          "output_type": "stream",
          "text": [
            "C:\\Users\\HoracioTapiaMcClung\\.ipython\n"
          ],
          "name": "stdout"
        }
      ]
    },
    {
      "metadata": {
        "id": "j1lJOAv4wzsR",
        "colab_type": "code",
        "colab": {},
        "outputId": "f31bc3de-f1a9-480c-c4bd-1a3162b25e81"
      },
      "cell_type": "code",
      "source": [
        "# revisar el contenido del directorio\n",
        "%ls"
      ],
      "execution_count": 0,
      "outputs": [
        {
          "output_type": "stream",
          "text": [
            " El volumen de la unidad C no tiene etiqueta.\n",
            " El número de serie del volumen es: 3651-8780\n",
            "\n",
            " Directorio de C:\\Users\\HoracioTapiaMcClung\\.ipython\n",
            "\n",
            "24/01/2019  12:20 p. m.    <DIR>          .\n",
            "24/01/2019  12:20 p. m.    <DIR>          ..\n",
            "25/01/2019  10:07 a. m.             1,912 android.py\n",
            "24/01/2019  12:20 p. m.             1,821 android.pyc\n",
            "21/01/2019  01:24 p. m.    <DIR>          extensions\n",
            "21/01/2019  01:24 p. m.    <DIR>          nbextensions\n",
            "25/01/2019  10:22 a. m.    <DIR>          profile_default\n",
            "               2 archivos          3,733 bytes\n",
            "               5 dirs   4,942,053,376 bytes libres\n"
          ],
          "name": "stdout"
        }
      ]
    },
    {
      "metadata": {
        "id": "pPHBeCovwzsU",
        "colab_type": "code",
        "colab": {},
        "outputId": "68844598-18a2-44d7-a68d-03977aa5b4cd"
      },
      "cell_type": "code",
      "source": [
        "%%file android.py\n",
        "# %load https://raw.githubusercontent.com/damonkohler/sl4a/master/python/ase/android.py\n",
        "# Copyright (C) 2009 Google Inc.\n",
        "#\n",
        "# Licensed under the Apache License, Version 2.0 (the \"License\"); you may not\n",
        "# use this file except in compliance with the License. You may obtain a copy of\n",
        "# the License at\n",
        "#\n",
        "# http://www.apache.org/licenses/LICENSE-2.0\n",
        "#\n",
        "# Unless required by applicable law or agreed to in writing, software\n",
        "# distributed under the License is distributed on an \"AS IS\" BASIS, WITHOUT\n",
        "# WARRANTIES OR CONDITIONS OF ANY KIND, either express or implied. See the\n",
        "# License for the specific language governing permissions and limitations under\n",
        "# the License.\n",
        "\n",
        "__author__ = 'Damon Kohler <damonkohler@gmail.com>'\n",
        "\n",
        "import collections\n",
        "import json\n",
        "import os\n",
        "import socket\n",
        "import sys\n",
        "\n",
        "PORT = os.environ.get('AP_PORT')\n",
        "HOST = os.environ.get('AP_HOST')\n",
        "HANDSHAKE = os.environ.get('AP_HANDSHAKE')\n",
        "Result = collections.namedtuple('Result', 'id,result,error')\n",
        "\n",
        "\n",
        "class Android(object):\n",
        "\n",
        "  def __init__(self, addr=None):\n",
        "    if addr is None:\n",
        "      addr = HOST, PORT\n",
        "    self.conn = socket.create_connection(addr)\n",
        "    self.client = self.conn.makefile()\n",
        "    self.id = 0\n",
        "    if HANDSHAKE is not None:\n",
        "      self._authenticate(HANDSHAKE)\n",
        "\n",
        "  def _rpc(self, method, *args):\n",
        "    data = {'id': self.id,\n",
        "            'method': method,\n",
        "            'params': args}\n",
        "    request = json.dumps(data)\n",
        "    self.client.write(request+'\\n')\n",
        "    self.client.flush()\n",
        "    response = self.client.readline()\n",
        "    self.id += 1\n",
        "    result = json.loads(response)\n",
        "    if result['error'] is not None:\n",
        "      print result['error']\n",
        "    # namedtuple doesn't work with unicode keys.\n",
        "    return Result(id=result['id'], result=result['result'],\n",
        "                  error=result['error'], )\n",
        "\n",
        "  def __getattr__(self, name):\n",
        "    def rpc_call(*args):\n",
        "      return self._rpc(name, *args)\n",
        "    return rpc_call\n"
      ],
      "execution_count": 0,
      "outputs": [
        {
          "output_type": "stream",
          "text": [
            "Overwriting android.py\n"
          ],
          "name": "stdout"
        }
      ]
    },
    {
      "metadata": {
        "id": "SrAWJF3rwzsZ",
        "colab_type": "code",
        "colab": {},
        "outputId": "7b127a35-79be-404b-e7d2-01e5c6e1aee9"
      },
      "cell_type": "code",
      "source": [
        "# revisar que el archivo se guardo correctamente en la ruta especificadaa\n",
        "%ls"
      ],
      "execution_count": 0,
      "outputs": [
        {
          "output_type": "stream",
          "text": [
            " El volumen de la unidad C no tiene etiqueta.\n",
            " El número de serie del volumen es: 3651-8780\n",
            "\n",
            " Directorio de C:\\Users\\HoracioTapiaMcClung\\.ipython\n",
            "\n",
            "24/01/2019  12:20 p. m.    <DIR>          .\n",
            "24/01/2019  12:20 p. m.    <DIR>          ..\n",
            "25/01/2019  10:22 a. m.             1,912 android.py\n",
            "24/01/2019  12:20 p. m.             1,821 android.pyc\n",
            "21/01/2019  01:24 p. m.    <DIR>          extensions\n",
            "21/01/2019  01:24 p. m.    <DIR>          nbextensions\n",
            "25/01/2019  10:22 a. m.    <DIR>          profile_default\n",
            "               2 archivos          3,733 bytes\n",
            "               5 dirs   4,931,784,704 bytes libres\n"
          ],
          "name": "stdout"
        }
      ]
    },
    {
      "metadata": {
        "id": "SQJsxOqQwzsd",
        "colab_type": "code",
        "colab": {}
      },
      "cell_type": "code",
      "source": [
        "import android"
      ],
      "execution_count": 0,
      "outputs": []
    },
    {
      "metadata": {
        "id": "LeEvbny6wzsh",
        "colab_type": "text"
      },
      "cell_type": "markdown",
      "source": [
        "# Si el comando anterior no arroja errores, felicidades, tienen el modulo y estan listos para establece comunicacion entre el dispositivo y el sistema.\n",
        "# Si arroja error, revisen los pasos y aseguren que el modulo esta en el directorio accesible al sistema: /Usuario/TUNOMBREDEUSUARIO/.ipython"
      ]
    }
  ]
}
{
 "cells": [
  {
   "cell_type": "markdown",
   "metadata": {
    "colab_type": "text",
    "id": "view-in-github"
   },
   "source": [
    "<a href=\"https://colab.research.google.com/github/htapia/damju/blob/master/DAMJu_S1_L1.ipynb\" target=\"_parent\"><img src=\"https://colab.research.google.com/assets/colab-badge.svg\" alt=\"Open In Colab\"/></a>"
   ]
  },
  {
   "cell_type": "markdown",
   "metadata": {
    "colab_type": "text",
    "id": "Ljeymx0djw7e"
   },
   "source": [
    "# Semana 1 Libreta 1"
   ]
  },
  {
   "cell_type": "markdown",
   "metadata": {
    "colab_type": "text",
    "id": "H5UALHJGXavZ"
   },
   "source": [
    "## Instalacion local de Jupyter via Anaconda\n",
    "\n",
    "><strong>Pro Tip</strong>\n",
    ">\n",
    ">Sugerimos de forma muy específica utilizar la distribución de Anaconda adecuada para su sistema operativo, la cual está disponible en el enlace siguiente: [https://www.anaconda.com/download/](https://www.anaconda.com/download/) y elegir el instalable correspondiente a **Python 2.7**. Configurar el ambiente de programación por este medio facilita y acelera el desarrollo además de evitar posibles conflictos con posibles instalaciones de Python ya existentes en el sistema operativo local.\n",
    ">\n",
    ">>Debido al poco tiempo disponible para el curso, no se proporcionará soporte a instalaciones o configuraciones del ambiente Python fuera de la distribución de Ananconda.\n",
    "\n",
    "El siguiente video muestra como instalar y configurar Python a traves de Anaconda en el sistema operativo windows. Un proceso muy parecido se lleva a cabo en otros sistemas operativos.\n",
    "\n"
   ]
  },
  {
   "cell_type": "code",
   "execution_count": 0,
   "metadata": {
    "colab": {
     "base_uri": "https://localhost:8080/",
     "height": 336
    },
    "colab_type": "code",
    "id": "FWfSWPcLX9ct",
    "outputId": "e51aa1c0-80b7-46f3-f4ac-d4a90b0cb910"
   },
   "outputs": [
    {
     "data": {
      "text/html": [
       "<iframe width=\"560\" height=\"315\" src=\"https://www.youtube.com/embed/lMeFay7VcgM\" frameborder=\"0\" \n",
       "allow=\"accelerometer; autoplay; encrypted-media; gyroscope; picture-in-picture\" allowfullscreen></iframe>"
      ],
      "text/plain": [
       "<IPython.core.display.HTML object>"
      ]
     },
     "metadata": {
      "tags": []
     },
     "output_type": "display_data"
    }
   ],
   "source": [
    "%%HTML\n",
    "<iframe width=\"560\" height=\"315\" src=\"https://www.youtube.com/embed/lMeFay7VcgM\" frameborder=\"0\" \n",
    "allow=\"accelerometer; autoplay; encrypted-media; gyroscope; picture-in-picture\" allowfullscreen></iframe>"
   ]
  },
  {
   "cell_type": "code",
   "execution_count": 0,
   "metadata": {
    "colab": {},
    "colab_type": "code",
    "id": "6K-rVwt4q-Z5"
   },
   "outputs": [],
   "source": []
  }
 ],
 "metadata": {
  "colab": {
   "include_colab_link": true,
   "name": "DAMJu_S1_L1.ipynb",
   "provenance": [],
   "version": "0.3.2"
  },
  "kernelspec": {
   "display_name": "Python 2",
   "language": "python",
   "name": "python2"
  },
  "language_info": {
   "codemirror_mode": {
    "name": "ipython",
    "version": 2
   },
   "file_extension": ".py",
   "mimetype": "text/x-python",
   "name": "python",
   "nbconvert_exporter": "python",
   "pygments_lexer": "ipython2",
   "version": "2.7.15"
  }
 },
 "nbformat": 4,
 "nbformat_minor": 1
}

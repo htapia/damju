{
  "nbformat": 4,
  "nbformat_minor": 0,
  "metadata": {
    "colab": {
      "name": "DAMJu_S2_L2.ipynb",
      "version": "0.3.2",
      "provenance": [],
      "include_colab_link": true
    },
    "kernelspec": {
      "name": "python3",
      "display_name": "Python 3"
    }
  },
  "cells": [
    {
      "cell_type": "markdown",
      "metadata": {
        "id": "view-in-github",
        "colab_type": "text"
      },
      "source": [
        "<a href=\"https://colab.research.google.com/github/htapia/damju/blob/master/DAMJu_S2_L2.ipynb\" target=\"_parent\"><img src=\"https://colab.research.google.com/assets/colab-badge.svg\" alt=\"Open In Colab\"/></a>"
      ]
    },
    {
      "metadata": {
        "id": "Bhaw4uTD7y4q",
        "colab_type": "text"
      },
      "cell_type": "markdown",
      "source": [
        "# Semana 2 Libreta 2"
      ]
    },
    {
      "metadata": {
        "id": "-hK2QD34iXRC",
        "colab_type": "text"
      },
      "cell_type": "markdown",
      "source": [
        "## Establecer conexion con el dispositivo"
      ]
    },
    {
      "metadata": {
        "id": "5xw6t76FH5Bm",
        "colab_type": "code",
        "colab": {
          "base_uri": "https://localhost:8080/",
          "height": 71
        },
        "outputId": "d890833b-c64d-4061-aff9-341385583cd1"
      },
      "cell_type": "code",
      "source": [
        "!adb devices"
      ],
      "execution_count": 21,
      "outputs": [
        {
          "output_type": "stream",
          "text": [
            "List of devices attached\r\n",
            "98f2eeee\tdevice\r\n",
            "\r\n"
          ],
          "name": "stdout"
        }
      ]
    },
    {
      "metadata": {
        "id": "5PDgb6OWTbhb",
        "colab_type": "code",
        "colab": {
          "base_uri": "https://localhost:8080/",
          "height": 106
        },
        "outputId": "e90289f8-69b3-4873-d2dc-cca9de1dc950"
      },
      "cell_type": "code",
      "source": [
        "%%bash\n",
        "adb kill-server\n",
        "# adb tcpip 5555\n",
        "adb devices"
      ],
      "execution_count": 23,
      "outputs": [
        {
          "output_type": "stream",
          "text": [
            "List of devices attached\n",
            "* daemon not running. starting it now on port 5037 *\n",
            "* daemon started successfully *\n",
            "98f2eeee\tdevice\n",
            "\n"
          ],
          "name": "stdout"
        }
      ]
    },
    {
      "metadata": {
        "id": "etqrRTG6YqTb",
        "colab_type": "code",
        "colab": {
          "base_uri": "https://localhost:8080/",
          "height": 35
        },
        "outputId": "3775f572-589c-48bf-ef7e-cf1855773614"
      },
      "cell_type": "code",
      "source": [
        ""
      ],
      "execution_count": 27,
      "outputs": [
        {
          "output_type": "stream",
          "text": [
            "connected to 192.168.1.75:5554\r\n"
          ],
          "name": "stdout"
        }
      ]
    },
    {
      "metadata": {
        "id": "3l1KqC6XArhB",
        "colab_type": "code",
        "colab": {
          "base_uri": "https://localhost:8080/",
          "height": 53
        },
        "outputId": "9df32eae-a5f9-4da4-ffb0-dd485c2523f2"
      },
      "cell_type": "code",
      "source": [
        "# use this if you are connecting via usb (PRIVATE SL4A Server)\n",
        "!adb forward tcp:9999 tcp:2222"
      ],
      "execution_count": 7,
      "outputs": [
        {
          "output_type": "stream",
          "text": [
            "error: device '(null)' not found\r\n",
            "error: device '(null)' not found\r\n"
          ],
          "name": "stdout"
        }
      ]
    },
    {
      "metadata": {
        "id": "o0bLl57wXoOo",
        "colab_type": "code",
        "colab": {
          "base_uri": "https://localhost:8080/",
          "height": 35
        },
        "outputId": "f00995b7-5c2b-4f3d-d5d4-4fc7804eeec9"
      },
      "cell_type": "code",
      "source": [
        "# use this if you connect via wifi (PUBLIC SL4A Server)\n",
        "# !adb tcpip 5554\n",
        "!adb connect 192.168.1.75:5554 # < usar su propia IP >"
      ],
      "execution_count": 13,
      "outputs": [
        {
          "output_type": "stream",
          "text": [
            "unable to connect to 192.168.17.73:5555\r\n"
          ],
          "name": "stdout"
        }
      ]
    },
    {
      "metadata": {
        "id": "RWwdblWU71JX",
        "colab_type": "text"
      },
      "cell_type": "markdown",
      "source": [
        "## Primera aplicacion\n",
        "\n",
        "Con el sistema de desarrollo listo, vamos a crear una primera applicacion de forma interactiva. Al final podemos desplegarla en el dispositivo y ejecutarla ahi. \n",
        "\n",
        "Esta libreta tiene como objetivo crear una aplicacion que ponga el dispositivo en modo sielncio si se coloca con la pantalla hacia abajo sobre una superficie plana\n",
        "\n",
        "Para lograrlo realizaremos los siguietnes pasos:\n",
        "\n",
        "1. Determinar si el dispositivo se encuentra orientado con la pantalla haciar arriba\n",
        "2. Determinar si el dispositivo esta en posicion horizontal en reposo o moviendose"
      ]
    },
    {
      "metadata": {
        "id": "-Ml2bcP8OBKU",
        "colab_type": "code",
        "colab": {}
      },
      "cell_type": "code",
      "source": [
        "import androidhelper, time"
      ],
      "execution_count": 0,
      "outputs": []
    },
    {
      "metadata": {
        "id": "XA8aIDadA1We",
        "colab_type": "code",
        "colab": {}
      },
      "cell_type": "code",
      "source": [
        "droid = androidhelper.Android(['192.168.1.76','2222'])"
      ],
      "execution_count": 0,
      "outputs": []
    },
    {
      "metadata": {
        "id": "zWfuVo0FU-tJ",
        "colab_type": "code",
        "colab": {
          "base_uri": "https://localhost:8080/",
          "height": 35
        },
        "outputId": "756a15ae-87c5-45a0-e034-e7d068bbbfba"
      },
      "cell_type": "code",
      "source": [
        "# Hola mundo\n",
        "droid.makeToast('Hola, mundo!')"
      ],
      "execution_count": 45,
      "outputs": [
        {
          "output_type": "execute_result",
          "data": {
            "text/plain": [
              "Result(id=0, result=None, error=None)"
            ]
          },
          "metadata": {
            "tags": []
          },
          "execution_count": 45
        }
      ]
    },
    {
      "metadata": {
        "id": "8ukoosB4UdlL",
        "colab_type": "code",
        "colab": {}
      },
      "cell_type": "code",
      "source": [
        "line = droid.dialogGetInput()"
      ],
      "execution_count": 0,
      "outputs": []
    },
    {
      "metadata": {
        "id": "Bjz1TRFHcDyH",
        "colab_type": "code",
        "colab": {
          "base_uri": "https://localhost:8080/",
          "height": 35
        },
        "outputId": "09616cab-9873-4d9d-cb36-d8b9f6648522"
      },
      "cell_type": "code",
      "source": [
        "s = \"Hola, %s\" % (line.result,)\n",
        "print s"
      ],
      "execution_count": 35,
      "outputs": [
        {
          "output_type": "stream",
          "text": [
            "Hola, un valor\n"
          ],
          "name": "stdout"
        }
      ]
    },
    {
      "metadata": {
        "id": "6rlde_9YcNHX",
        "colab_type": "code",
        "colab": {
          "base_uri": "https://localhost:8080/",
          "height": 35
        },
        "outputId": "8b9b8755-a134-429b-9fea-e347f58c3348"
      },
      "cell_type": "code",
      "source": [
        "droid.makeToast(s)"
      ],
      "execution_count": 33,
      "outputs": [
        {
          "output_type": "execute_result",
          "data": {
            "text/plain": [
              "Result(id=2, result=None, error=None)"
            ]
          },
          "metadata": {
            "tags": []
          },
          "execution_count": 33
        }
      ]
    },
    {
      "metadata": {
        "id": "Xspc9AqjdIIQ",
        "colab_type": "text"
      },
      "cell_type": "markdown",
      "source": [
        "## Explorando la API de Python en Android\n",
        "\n",
        "Ahora vamos a crear codigo que invoca diferentes componentes de la API en android."
      ]
    },
    {
      "metadata": {
        "id": "REjzO9btdKjT",
        "colab_type": "code",
        "colab": {}
      },
      "cell_type": "code",
      "source": [
        "# comenzamos por invocar algunas librearias adicionales\n",
        "import sys\n",
        "import time\n",
        "import types\n",
        "# import androidhelper  # SOLO EN EL CASO QUE NO LA HAYA INVOCADO ANTERIORMENT"
      ],
      "execution_count": 0,
      "outputs": []
    },
    {
      "metadata": {
        "id": "eq1qAzxZeEum",
        "colab_type": "code",
        "colab": {}
      },
      "cell_type": "code",
      "source": [
        "def test_clipboard():\n",
        "  previous = droid.getClipboard().result\n",
        "  msg = 'Hola, clase!'\n",
        "  droid.setClipboard(msg)\n",
        "  echo = droid.getClipboard().result\n",
        "  droid.setClipboard(previous)\n",
        "  return echo == msg"
      ],
      "execution_count": 0,
      "outputs": []
    },
    {
      "metadata": {
        "id": "WVKHWoGUjT63",
        "colab_type": "code",
        "colab": {}
      },
      "cell_type": "code",
      "source": [
        "def test_speak():\n",
        "  result = droid.ttsSpeak('Hola, clase')\n",
        "  return result.error is None"
      ],
      "execution_count": 0,
      "outputs": []
    },
    {
      "metadata": {
        "id": "eIuppZjJdT9e",
        "colab_type": "code",
        "colab": {}
      },
      "cell_type": "code",
      "source": [
        "def test_make_toast():\n",
        "  result = droid.makeToast('Hello, world!')\n",
        "  return result.error is None"
      ],
      "execution_count": 0,
      "outputs": []
    },
    {
      "metadata": {
        "id": "HAAVNMpudQRB",
        "colab_type": "code",
        "colab": {}
      },
      "cell_type": "code",
      "source": [
        "def test_notify():\n",
        "  result = droid.notify('Test Title', 'Hello, world!')\n",
        "  return result.error is None"
      ],
      "execution_count": 0,
      "outputs": []
    },
    {
      "metadata": {
        "id": "qJ7FJXtbdR3p",
        "colab_type": "code",
        "colab": {}
      },
      "cell_type": "code",
      "source": [
        "def test_vibrate():\n",
        "  result = droid.vibrate()\n",
        "  return result.error is None"
      ],
      "execution_count": 0,
      "outputs": []
    },
    {
      "metadata": {
        "id": "NcfKaNUQdYQe",
        "colab_type": "code",
        "colab": {}
      },
      "cell_type": "code",
      "source": [
        "def test_alert_dialog():\n",
        "  title = 'User Interface'\n",
        "  message = 'Welcome to the SL4A integration test.'\n",
        "  droid.dialogCreateAlert(title, message)\n",
        "  droid.dialogSetPositiveButtonText('Continue')\n",
        "  droid.dialogShow()\n",
        "  response = droid.dialogGetResponse().result\n",
        "  return response['which'] == 'positive'"
      ],
      "execution_count": 0,
      "outputs": []
    },
    {
      "metadata": {
        "id": "xHmYwcCJdeNd",
        "colab_type": "code",
        "colab": {}
      },
      "cell_type": "code",
      "source": [
        "def test_alert_dialog_with_buttons():\n",
        "  title = 'Alert'\n",
        "  message = ('This alert box has 3 buttons and '\n",
        "             'will wait for you to press one.')\n",
        "  droid.dialogCreateAlert(title, message)\n",
        "  droid.dialogSetPositiveButtonText('Yes')\n",
        "  droid.dialogSetNegativeButtonText('No')\n",
        "  droid.dialogSetNeutralButtonText('Cancel')\n",
        "  droid.dialogShow()\n",
        "  response = droid.dialogGetResponse().result\n",
        "  return response['which'] in ('positive', 'negative', 'neutral')"
      ],
      "execution_count": 0,
      "outputs": []
    },
    {
      "metadata": {
        "id": "1coKGwIPdgJ5",
        "colab_type": "code",
        "colab": {}
      },
      "cell_type": "code",
      "source": [
        "def test_spinner_progress():\n",
        "  title = 'Spinner'\n",
        "  message = 'This is simple spinner progress.'\n",
        "  droid.dialogCreateSpinnerProgress(title, message)\n",
        "  droid.dialogShow()\n",
        "  time.sleep(2)\n",
        "  droid.dialogDismiss()\n",
        "  return True"
      ],
      "execution_count": 0,
      "outputs": []
    },
    {
      "metadata": {
        "id": "mESq-mYjdiZo",
        "colab_type": "code",
        "colab": {}
      },
      "cell_type": "code",
      "source": [
        "def test_horizontal_progress():\n",
        "  title = 'Horizontal'\n",
        "  message = 'This is simple horizontal progress.'\n",
        "  droid.dialogCreateHorizontalProgress(title, message, 50)\n",
        "  droid.dialogShow()\n",
        "  for x in range(0, 50):\n",
        "    time.sleep(0.1)\n",
        "    droid.dialogSetCurrentProgress(x)\n",
        "  droid.dialogDismiss()\n",
        "  return True"
      ],
      "execution_count": 0,
      "outputs": []
    },
    {
      "metadata": {
        "id": "GC8XYYf3djPA",
        "colab_type": "code",
        "colab": {}
      },
      "cell_type": "code",
      "source": [
        "def test_alert_dialog_with_list():\n",
        "  title = 'Alert'\n",
        "  droid.dialogCreateAlert(title)\n",
        "  droid.dialogSetItems(['foo', 'bar', 'baz'])\n",
        "  droid.dialogShow()\n",
        "  response = droid.dialogGetResponse().result\n",
        "  return True\n"
      ],
      "execution_count": 0,
      "outputs": []
    },
    {
      "metadata": {
        "id": "uIanW3yLdmIu",
        "colab_type": "code",
        "colab": {}
      },
      "cell_type": "code",
      "source": [
        "def test_alert_dialog_with_single_choice_list():\n",
        "  title = 'Alert'\n",
        "  droid.dialogCreateAlert(title)\n",
        "  droid.dialogSetSingleChoiceItems(['foo', 'bar', 'baz'])\n",
        "  droid.dialogSetPositiveButtonText('Yay!')\n",
        "  droid.dialogShow()\n",
        "  response = droid.dialogGetResponse().result\n",
        "  return True"
      ],
      "execution_count": 0,
      "outputs": []
    },
    {
      "metadata": {
        "id": "XrxmuoBSdmxT",
        "colab_type": "code",
        "colab": {}
      },
      "cell_type": "code",
      "source": [
        "def test_alert_dialog_with_multi_choice_list():\n",
        "  title = 'Alert'\n",
        "  droid.dialogCreateAlert(title)\n",
        "  droid.dialogSetMultiChoiceItems(['foo', 'bar', 'baz'], [])\n",
        "  droid.dialogSetPositiveButtonText('Yay!')\n",
        "  droid.dialogShow()\n",
        "  response = droid.dialogGetResponse().result\n",
        "  return True"
      ],
      "execution_count": 0,
      "outputs": []
    },
    {
      "metadata": {
        "id": "4n2MpAnZdZH3",
        "colab_type": "text"
      },
      "cell_type": "markdown",
      "source": [
        "## Pruebas 2"
      ]
    },
    {
      "metadata": {
        "id": "0M8MmREAdxxW",
        "colab_type": "code",
        "colab": {}
      },
      "cell_type": "code",
      "source": [
        "def test_imports():\n",
        "  try:\n",
        "    import termios\n",
        "    import bs4 as BeautifulSoup\n",
        "    import pyxmpp2 as xmpp\n",
        "    from xml.dom import minidom\n",
        "  except ImportError:\n",
        "    return False\n",
        "  return True"
      ],
      "execution_count": 0,
      "outputs": []
    },
    {
      "metadata": {
        "id": "aP36EY5SeI1j",
        "colab_type": "code",
        "colab": {}
      },
      "cell_type": "code",
      "source": [
        "def test_get_running_packages():\n",
        "  result = droid.getRunningPackages()\n",
        "  return result.error is None"
      ],
      "execution_count": 0,
      "outputs": []
    },
    {
      "metadata": {
        "id": "gPbBCBXYdb0X",
        "colab_type": "code",
        "colab": {}
      },
      "cell_type": "code",
      "source": [
        "def event_loop():\n",
        "  for i in range(10):\n",
        "    time.sleep(1)\n",
        "    droid.eventClearBuffer()\n",
        "    time.sleep(1)\n",
        "    e = droid.eventPoll(1)\n",
        "    if e.result is not None:\n",
        "      return True\n",
        "  return False    "
      ],
      "execution_count": 0,
      "outputs": []
    },
    {
      "metadata": {
        "id": "xP6ZqjjXixu0",
        "colab_type": "code",
        "colab": {}
      },
      "cell_type": "code",
      "source": [
        "def test_battery():\n",
        "  droid.batteryStartMonitoring()\n",
        "  time.sleep(1)\n",
        "  try:\n",
        "    return bool(droid.batteryGetStatus())\n",
        "  finally:\n",
        "    droid.batteryStopMonitoring()"
      ],
      "execution_count": 0,
      "outputs": []
    },
    {
      "metadata": {
        "id": "i7eX4T5tjCIW",
        "colab_type": "code",
        "colab": {}
      },
      "cell_type": "code",
      "source": [
        "def test_sensor():\n",
        "  # acelerometro 1 lectura por segundo\n",
        "  droid.startSensingTimed(2, 1000)\n",
        "  try:\n",
        "    return event_loop()\n",
        "  finally:\n",
        "    droid.stopSensing()"
      ],
      "execution_count": 0,
      "outputs": []
    },
    {
      "metadata": {
        "id": "jbIYY4xdipAd",
        "colab_type": "code",
        "colab": {}
      },
      "cell_type": "code",
      "source": [
        "def test_gps():\n",
        "  droid.startLocating()\n",
        "  try:\n",
        "    return event_loop()\n",
        "  finally:\n",
        "    droid.stopLocating()"
      ],
      "execution_count": 0,
      "outputs": []
    },
    {
      "metadata": {
        "id": "S6BsbvF7dxyR",
        "colab_type": "code",
        "colab": {}
      },
      "cell_type": "code",
      "source": [
        "def test_get_last_known_location():\n",
        "  result = droid.getLastKnownLocation()\n",
        "  return result.error is None"
      ],
      "execution_count": 0,
      "outputs": []
    },
    {
      "metadata": {
        "id": "mdtPxwXBeEWB",
        "colab_type": "code",
        "colab": {}
      },
      "cell_type": "code",
      "source": [
        "def test_geocode():\n",
        "  result = droid.geocode(0.0, 0.0, 1)\n",
        "  return result.error is None"
      ],
      "execution_count": 0,
      "outputs": []
    },
    {
      "metadata": {
        "id": "1g0URFaAjbWH",
        "colab_type": "code",
        "colab": {}
      },
      "cell_type": "code",
      "source": [
        "def test_phone_state():\n",
        "  droid.startTrackingPhoneState()\n",
        "  try:\n",
        "    return event_loop()\n",
        "  finally:\n",
        "    droid.stopTrackingPhoneState()"
      ],
      "execution_count": 0,
      "outputs": []
    },
    {
      "metadata": {
        "id": "zaszki4leau-",
        "colab_type": "code",
        "colab": {}
      },
      "cell_type": "code",
      "source": [
        "def test_ringer_silent():\n",
        "  result1 = droid.toggleRingerSilentMode()\n",
        "  result2 = droid.toggleRingerSilentMode()\n",
        "  return result1.error is None and result2.error is None"
      ],
      "execution_count": 0,
      "outputs": []
    },
    {
      "metadata": {
        "id": "1BqMuz8gec0c",
        "colab_type": "code",
        "colab": {}
      },
      "cell_type": "code",
      "source": [
        "def test_ringer_volume():\n",
        "  get_result = droid.getRingerVolume()\n",
        "  if get_result.error is not None:\n",
        "    return False\n",
        "  droid.setRingerVolume(0)\n",
        "  set_result = droid.setRingerVolume(get_result.result)\n",
        "  if set_result.error is not None:\n",
        "    return False\n",
        "  return True"
      ],
      "execution_count": 0,
      "outputs": []
    },
    {
      "metadata": {
        "id": "bBcmq-wHjkAW",
        "colab_type": "code",
        "colab": {}
      },
      "cell_type": "code",
      "source": [
        "def test_wifi():\n",
        "  result1 = droid.toggleWifiState()\n",
        "  result2 = droid.toggleWifiState()\n",
        "  droid.toggleWifiState(True)  # Make sure wifi ends up ON, as it interferes with other tests\n",
        "  return result1.error is None and result2.error is None"
      ],
      "execution_count": 0,
      "outputs": []
    },
    {
      "metadata": {
        "id": "5NHVtBCC7O7I",
        "colab_type": "text"
      },
      "cell_type": "markdown",
      "source": [
        "# Fin de sesion."
      ]
    }
  ]
}
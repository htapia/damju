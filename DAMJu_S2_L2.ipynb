{
  "nbformat": 4,
  "nbformat_minor": 0,
  "metadata": {
    "colab": {
      "name": "DAMJu_S2_L2.ipynb",
      "version": "0.3.2",
      "provenance": [],
      "include_colab_link": true
    },
    "kernelspec": {
      "name": "python3",
      "display_name": "Python 3"
    }
  },
  "cells": [
    {
      "cell_type": "markdown",
      "metadata": {
        "id": "view-in-github",
        "colab_type": "text"
      },
      "source": [
        "<a href=\"https://colab.research.google.com/github/htapia/damju/blob/master/DAMJu_S2_L2.ipynb\" target=\"_parent\"><img src=\"https://colab.research.google.com/assets/colab-badge.svg\" alt=\"Open In Colab\"/></a>"
      ]
    },
    {
      "metadata": {
        "id": "Bhaw4uTD7y4q",
        "colab_type": "text"
      },
      "cell_type": "markdown",
      "source": [
        "# Semana 2 Libreta 2"
      ]
    },
    {
      "metadata": {
        "id": "RWwdblWU71JX",
        "colab_type": "text"
      },
      "cell_type": "markdown",
      "source": [
        "## Primera aplicacion\n",
        "\n",
        "Con el sistema de desarrollo listo, vamos a crear nuestra primera applicacion de forma interactiva. Al final podemos desplegarla en el dispositivo y ejecutarla ahi. En esta libreta realizaremos los siguietnes pasos:\n",
        "\n",
        "1. Determinar "
      ]
    },
    {
      "metadata": {
        "id": "3l1KqC6XArhB",
        "colab_type": "code",
        "colab": {}
      },
      "cell_type": "code",
      "source": [
        ""
      ],
      "execution_count": 0,
      "outputs": []
    },
    {
      "metadata": {
        "id": "5NHVtBCC7O7I",
        "colab_type": "text"
      },
      "cell_type": "markdown",
      "source": [
        "# Fin de sesion."
      ]
    }
  ]
}
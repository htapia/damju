{
 "cells": [
  {
   "cell_type": "markdown",
   "metadata": {
    "colab_type": "text",
    "id": "view-in-github",
    "slideshow": {
     "slide_type": "skip"
    }
   },
   "source": [
    "<a href=\"https://colab.research.google.com/github/htapia/damju/blob/master/DAMJu_Semana1.ipynb\" target=\"_parent\"><img src=\"https://colab.research.google.com/assets/colab-badge.svg\" alt=\"Open In Colab\"/></a>"
   ]
  },
  {
   "cell_type": "markdown",
   "metadata": {
    "colab_type": "text",
    "id": "DLZ9jyIXsAD1",
    "slideshow": {
     "slide_type": "slide"
    }
   },
   "source": [
    "#  Desarrollo de Aplicaciones Móviles con Jupyter\n",
    "\n",
    "## Tópicos Selectos en Aplicaciones Distribuidas Móviles\n",
    "\n",
    "RySI LANIA 2019\n"
   ]
  },
  {
   "cell_type": "markdown",
   "metadata": {
    "colab_type": "text",
    "id": "OszFWecCtDAg",
    "slideshow": {
     "slide_type": "subslide"
    }
   },
   "source": [
    "# Semana 2\n",
    "\n",
    "## Introduccion a la API de Python en Android"
   ]
  },
  {
   "cell_type": "markdown",
   "metadata": {
    "colab_type": "text",
    "id": "uCxkbrnVtDA5",
    "slideshow": {
     "slide_type": "subslide"
    }
   },
   "source": [
    "## Introduccion\n",
    "\n",
    "El lenguaje programación interpretado Python permite acceder a una variedad de funciones del SO de Android a través de llamados especiales que se conocen como _fachadas_. En esta semana vamos a explorar ésta API, disponible para interactuar con el SO y crear aplicaciones que pueden desarrollarse localmente y ejecutarse de manera remota.\n",
    "\n",
    "> Es necesario tener configurado el sistema de acuerdo a los pasos descritos la semana anterior. [Si su configuración no esta lista favor de consultar las notas correspondientes.]()"
   ]
  },
  {
   "cell_type": "markdown",
   "metadata": {
    "colab_type": "text",
    "id": "GGTF-CDxtDBI",
    "slideshow": {
     "slide_type": "slide"
    }
   },
   "source": [
    "## Objetivos de aprendizaje\n",
    "\n",
    "*   Conocer la API de Android disponible en el SL4A\n",
    "*   Interactuar con el dispositivo móvil de manera remota \n",
    "*   Desarrollar una aplicación interactivamente y desplegarla en el dispositivo\n",
    "*\tConocer los posibles errores que pueden presentarse en el desarrollo y ejecución de aplicaciones usando SL4A"
   ]
  },
  {
   "cell_type": "markdown",
   "metadata": {
    "colab_type": "text",
    "id": "AMcBAJYBvhXc",
    "slideshow": {
     "slide_type": "slide"
    }
   },
   "source": [
    "## Requerimentos"
   ]
  },
  {
   "cell_type": "markdown",
   "metadata": {
    "colab_type": "text",
    "id": "AMcBAJYBvhXc",
    "slideshow": {
     "slide_type": "fragment"
    }
   },
   "source": [
    "*   Sistema configurado de acuerdo a la Semana 1"
   ]
  },
  {
   "cell_type": "markdown",
   "metadata": {
    "colab_type": "text",
    "id": "oOllyIEZtDBX",
    "slideshow": {
     "slide_type": "slide"
    }
   },
   "source": [
    "## Actividades/Libretas\n",
    "\n",
    "1. Estableciendo comunicacion con Android [Libreta 1](https://github.com/htapia/damju/blob/master/DAMJu_S2_L1.ipynb)\n",
    "\n",
    "2. Acceso a la API de Android desde Python local [Libreta 2](https://github.com/htapia/damju/blob/master/DAMJu_S2_L2.ipynb)\n",
    "\n",
    "3. Adquisicion de datos de los sensores embebidos [Libreta 3](https://github.com/htapia/damju/blob/master/DAMJu_S2_L3.ipynb)"
   ]
  },
  {
   "cell_type": "markdown",
   "metadata": {
    "colab_type": "text",
    "id": "oOllyIEZtDBX",
    "slideshow": {
     "slide_type": "subslide"
    }
   },
   "source": [
    "5. Comunicacion entre dispositivo movil y ambiente Jupyter [Libreta 5](https://github.com/htapia/damju/blob/master/DAMJu_S1_L5.ipynb)"
   ]
  },
  {
   "cell_type": "markdown",
   "metadata": {
    "colab_type": "text",
    "id": "oOllyIEZtDBX",
    "slideshow": {
     "slide_type": "subslide"
    }
   },
   "source": [
    "6. Ecosistema de Jupyter en la nube y conexion local [Libreta 6](https://github.com/htapia/damju/blob/master/DAMJu_S1_L6.ipynb)"
   ]
  },
  {
   "cell_type": "markdown",
   "metadata": {
    "colab_type": "text",
    "id": "NSGL9zBJtDBS",
    "slideshow": {
     "slide_type": "slide"
    }
   },
   "source": [
    "## Material/Herramientas\n",
    "\n",
    "1.  [Como instalar el ecosistema](https://youtu.be/lMeFay7VcgM) Jupyter en su sistema utilizando Anaconda. \n",
    "2.  [Como configurar `adb`](https://youtu.be/c5Ir8ywvFsw) en su sistema\n",
    "3.  [Como instalar SL4A](https://youtu.be/rxAi00PGnmU) en dispositivo móvil\n",
    "4.  [Como instalar Python](https://youtu.be/IaaYpift3l8) en Android\n",
    "5.  [Como iniciar el intérprete](https://youtu.be/xUvA5CxU0dc) de Python en Android\n",
    "6.  [Como instalar el modulo `android.py`](https://youtu.be/-05-ny7FC38) en su sistema local\n",
    "7.  [Como iniciar una libreta de Jupyter](https://youtu.be/1_u0NmrFM0c) en su sistema local"
   ]
  },
  {
   "cell_type": "markdown",
   "metadata": {
    "colab_type": "text",
    "id": "rcGMynSUtDBc",
    "slideshow": {
     "slide_type": "slide"
    }
   },
   "source": [
    "## Enlaces/recursos externos\n",
    "\n",
    "1. [Descargar Anaconda/](https://www.anaconda.com/download/)\n",
    "2. [Descargar AndroidStudio](https://developer.android.com/studio/)\n",
    "2. [Scripting Layer 4 Android](https://github.com/htapia/sl4a)\n",
    "3. [Python for Android](https://github.com/htapia/python-for-android)\n",
    "*   [Google Collaborative](https://colab.research.google.com/notebooks/welcome.ipynb)\n",
    "*   [Google Collaborative FAQ](https://research.google.com/colaboratory/faq.html)\n",
    "*   [Respositorio libro Jupyter en GitHub](https://github.com/jupyter4edu/jupyter-edu-book)\n",
    "*   [Python](www.python.org)\n"
   ]
  },
  {
   "cell_type": "markdown",
   "metadata": {
    "slideshow": {
     "slide_type": "slide"
    }
   },
   "source": [
    "# Fin de Semana 2"
   ]
  }
 ],
 "metadata": {
  "celltoolbar": "Slideshow",
  "colab": {
   "include_colab_link": true,
   "name": "DAMJu_Semana1.ipynb",
   "provenance": [],
   "version": "0.3.2"
  },
  "kernelspec": {
   "display_name": "Python 2",
   "language": "python",
   "name": "python2"
  },
  "language_info": {
   "codemirror_mode": {
    "name": "ipython",
    "version": 2
   },
   "file_extension": ".py",
   "mimetype": "text/x-python",
   "name": "python",
   "nbconvert_exporter": "python",
   "pygments_lexer": "ipython2",
   "version": "2.7.15"
  }
 },
 "nbformat": 4,
 "nbformat_minor": 1
}

{
  "nbformat": 4,
  "nbformat_minor": 0,
  "metadata": {
    "colab": {
      "name": "DAMJu_S2_Ln+1.ipynb",
      "version": "0.3.2",
      "provenance": [],
      "toc_visible": true,
      "include_colab_link": true
    },
    "kernelspec": {
      "name": "python3",
      "display_name": "Python 3"
    }
  },
  "cells": [
    {
      "cell_type": "markdown",
      "metadata": {
        "id": "view-in-github",
        "colab_type": "text"
      },
      "source": [
        "<a href=\"https://colab.research.google.com/github/htapia/damju/blob/master/DAMJu_S2_Ln%2B1.ipynb\" target=\"_parent\"><img src=\"https://colab.research.google.com/assets/colab-badge.svg\" alt=\"Open In Colab\"/></a>"
      ]
    },
    {
      "metadata": {
        "id": "2byohrohTM3V",
        "colab_type": "text"
      },
      "cell_type": "markdown",
      "source": [
        "# Semana Libreta\n",
        "\n",
        "## Reentrenamiento de una red neuronal"
      ]
    },
    {
      "metadata": {
        "id": "ELHT0IaNTOkS",
        "colab_type": "text"
      },
      "cell_type": "markdown",
      "source": [
        "## Introduccion"
      ]
    },
    {
      "metadata": {
        "id": "cxc8U9qaTaMo",
        "colab_type": "text"
      },
      "cell_type": "markdown",
      "source": [
        "## Configuracion\n",
        "\n",
        "Repetiremos los siguientes pasos del ejercicio anterior:\n",
        "* importar librerias\n",
        "* descargar datos"
      ]
    },
    {
      "metadata": {
        "id": "d2bTAdiWTkJj",
        "colab_type": "code",
        "colab": {}
      },
      "cell_type": "code",
      "source": [
        "import tensorflow as tf  "
      ],
      "execution_count": 0,
      "outputs": []
    },
    {
      "metadata": {
        "id": "NlVPxbzcf1de",
        "colab_type": "code",
        "colab": {
          "base_uri": "https://localhost:8080/",
          "height": 35
        },
        "outputId": "5e63bd08-404b-4ad7-b635-38388cc8ddaf"
      },
      "cell_type": "code",
      "source": [
        "!git clone https://github.com/googlecodelabs/tensorflow-for-poets-2"
      ],
      "execution_count": 3,
      "outputs": [
        {
          "output_type": "stream",
          "text": [
            "fatal: destination path 'tensorflow-for-poets-2' already exists and is not an empty directory.\n"
          ],
          "name": "stdout"
        }
      ]
    },
    {
      "metadata": {
        "id": "oD2cLuLpU9n7",
        "colab_type": "text"
      },
      "cell_type": "markdown",
      "source": [
        "Los datos los vamos a descargar de Google Drive, para lo cual necesitaremos algunos paquetes adicionales que pueden instalarse con los siguientes comandos, con lo cual instalaremos software que nos permitira guardar archivos de manera persistente.\n",
        "\n",
        "El comando `%%capture` que aparece al inicio de las siguientes celdas evita que se despliegue informacion que no aporta "
      ]
    },
    {
      "metadata": {
        "id": "icIzbkcKf7Mi",
        "colab_type": "code",
        "colab": {}
      },
      "cell_type": "code",
      "source": [
        "from google.colab import drive"
      ],
      "execution_count": 0,
      "outputs": []
    },
    {
      "metadata": {
        "id": "5tH_tOvBeJBs",
        "colab_type": "text"
      },
      "cell_type": "markdown",
      "source": [
        "Ahora es posible montar nuestro drive en google"
      ]
    },
    {
      "metadata": {
        "id": "_pFQEA3xf-Qi",
        "colab_type": "code",
        "colab": {
          "base_uri": "https://localhost:8080/",
          "height": 126
        },
        "outputId": "a05b9016-3c7d-46b7-c215-5afb85cdffa1"
      },
      "cell_type": "code",
      "source": [
        "drive.mount('/content/drive/')"
      ],
      "execution_count": 6,
      "outputs": [
        {
          "output_type": "stream",
          "text": [
            "Go to this URL in a browser: https://accounts.google.com/o/oauth2/auth?client_id=947318989803-6bn6qk8qdgf4n4g3pfee6491hc0brc4i.apps.googleusercontent.com&redirect_uri=urn%3Aietf%3Awg%3Aoauth%3A2.0%3Aoob&scope=email%20https%3A%2F%2Fwww.googleapis.com%2Fauth%2Fdocs.test%20https%3A%2F%2Fwww.googleapis.com%2Fauth%2Fdrive%20https%3A%2F%2Fwww.googleapis.com%2Fauth%2Fdrive.photos.readonly%20https%3A%2F%2Fwww.googleapis.com%2Fauth%2Fpeopleapi.readonly&response_type=code\n",
            "\n",
            "Enter your authorization code:\n",
            "··········\n",
            "Mounted at /content/drive/\n"
          ],
          "name": "stdout"
        }
      ]
    },
    {
      "metadata": {
        "id": "Jb9nM8O3dXZy",
        "colab_type": "code",
        "colab": {}
      },
      "cell_type": "code",
      "source": [
        "%%capture\n",
        "!tar xzvf drive/My\\ Drive/Colab\\ Notebooks/Datasets/the_simpsons.tgz -C tensorflow-for-poets-2/tf_files/"
      ],
      "execution_count": 0,
      "outputs": []
    },
    {
      "metadata": {
        "id": "jqjN4XaifDwS",
        "colab_type": "code",
        "colab": {
          "base_uri": "https://localhost:8080/",
          "height": 35
        },
        "outputId": "53c51589-48f4-4ee9-bb35-729897b8451a"
      },
      "cell_type": "code",
      "source": [
        "cd tensorflow-for-poets-2/"
      ],
      "execution_count": 21,
      "outputs": [
        {
          "output_type": "stream",
          "text": [
            "/content/tensorflow-for-poets-2\n"
          ],
          "name": "stdout"
        }
      ]
    },
    {
      "metadata": {
        "id": "CamcAFpmhPCi",
        "colab_type": "code",
        "colab": {
          "base_uri": "https://localhost:8080/",
          "height": 35
        },
        "outputId": "30657c64-0353-45bb-b50e-f50819536710"
      },
      "cell_type": "code",
      "source": [
        "cd tf_files"
      ],
      "execution_count": 25,
      "outputs": [
        {
          "output_type": "stream",
          "text": [
            "/content/tensorflow-for-poets-2/tf_files\n"
          ],
          "name": "stdout"
        }
      ]
    },
    {
      "metadata": {
        "id": "XC_tXt6TfrR_",
        "colab_type": "code",
        "colab": {
          "base_uri": "https://localhost:8080/",
          "height": 53
        },
        "outputId": "4099d5b8-96d7-4628-8093-847a1a735689"
      },
      "cell_type": "code",
      "source": [
        "ls"
      ],
      "execution_count": 26,
      "outputs": [
        {
          "output_type": "stream",
          "text": [
            "\u001b[0m\u001b[01;34mbottlenecks\u001b[0m/    \u001b[01;34mmodels\u001b[0m/             retrained_labels.txt  \u001b[01;34mtraining_summaries\u001b[0m/\n",
            "\u001b[01;34mflower_photos\u001b[0m/  retrained_graph.pb  \u001b[01;34mthe_simpsons\u001b[0m/\n"
          ],
          "name": "stdout"
        }
      ]
    },
    {
      "metadata": {
        "id": "-DapN803eGvU",
        "colab_type": "code",
        "colab": {
          "base_uri": "https://localhost:8080/",
          "height": 35
        },
        "outputId": "5eb44fd1-e14d-4159-831f-6bfbdb6c3819"
      },
      "cell_type": "code",
      "source": [
        "cd the_simpsons/"
      ],
      "execution_count": 27,
      "outputs": [
        {
          "output_type": "stream",
          "text": [
            "/content/tensorflow-for-poets-2/tf_files/the_simpsons\n"
          ],
          "name": "stdout"
        }
      ]
    },
    {
      "metadata": {
        "id": "xrx-aOJ6VBZT",
        "colab_type": "code",
        "colab": {
          "base_uri": "https://localhost:8080/",
          "height": 35
        },
        "outputId": "4a668e6f-c6e3-4808-f5a9-33edab2f7ad1"
      },
      "cell_type": "code",
      "source": [
        "cd tensorflow-for-poets-2/tf_files/"
      ],
      "execution_count": 2,
      "outputs": [
        {
          "output_type": "stream",
          "text": [
            "/content/tensorflow-for-poets-2/tf_files\n"
          ],
          "name": "stdout"
        }
      ]
    },
    {
      "metadata": {
        "id": "J78C-GTman7x",
        "colab_type": "code",
        "colab": {
          "base_uri": "https://localhost:8080/",
          "height": 53
        },
        "outputId": "69042074-09c2-483c-8b91-dd53432d5b27"
      },
      "cell_type": "code",
      "source": [
        "ls the_simpsons/"
      ],
      "execution_count": 7,
      "outputs": [
        {
          "output_type": "stream",
          "text": [
            "\u001b[0m\u001b[01;34mabrahamgrampa_simpson\u001b[0m/  \u001b[01;34mcharlesmontgomery_burns\u001b[0m/  \u001b[01;34mnedflanders\u001b[0m/\n",
            "\u001b[01;34mbartsimpson\u001b[0m/            \u001b[01;34mdrive\u001b[0m/                    \u001b[01;34mned_flanders\u001b[0m/\n"
          ],
          "name": "stdout"
        }
      ]
    },
    {
      "metadata": {
        "id": "FE1_TD6BhxZ_",
        "colab_type": "code",
        "colab": {
          "base_uri": "https://localhost:8080/",
          "height": 231
        },
        "outputId": "e33ca707-6611-4446-9600-31822b6a3482"
      },
      "cell_type": "code",
      "source": [
        "!rm -rf the_simpsons/"
      ],
      "execution_count": 5,
      "outputs": [
        {
          "output_type": "stream",
          "text": [
            "rm: cannot remove 'the_simpsons/drive/.Trash/EH10919Tapia-McClungPRE.pdf': Permission denied\n",
            "rm: cannot remove 'the_simpsons/drive/.Trash/Professor L. Barba.odt': Permission denied\n",
            "rm: cannot remove 'the_simpsons/drive/.Trash/Timeline ucmexus ucsb.odt': Permission denied\n",
            "rm: cannot remove 'the_simpsons/drive/.Trash/Professor L. Barba.gddoc': Permission denied\n",
            "rm: cannot remove 'the_simpsons/drive/.Trash/Solicitud uso Laboratorio Cómputo.zip': Permission denied\n",
            "rm: cannot remove 'the_simpsons/drive/.Trash/Cabrillo - Vienna Trail .desktop': Permission denied\n",
            "rm: cannot remove 'the_simpsons/drive/.Trash/PapersByMe/EH10919Tapia-McClungPRE.pdf': Permission denied\n",
            "rm: cannot remove 'the_simpsons/drive/.Trash/Professor Eckart Meiburg.gddoc': Permission denied\n",
            "rm: cannot remove 'the_simpsons/drive/.Trash/resumen_cobi_1erSemestre_2016.docx.odt': Permission denied\n",
            "rm: cannot remove 'the_simpsons/drive/.Trash/nmat3119.pdf': Permission denied\n",
            "rm: cannot remove 'the_simpsons/drive/.Trash/TORTAS.odt': Permission denied\n",
            "^C\n"
          ],
          "name": "stdout"
        }
      ]
    },
    {
      "metadata": {
        "id": "8nDfjjzChzCP",
        "colab_type": "code",
        "colab": {}
      },
      "cell_type": "code",
      "source": [
        ""
      ],
      "execution_count": 0,
      "outputs": []
    }
  ]
}